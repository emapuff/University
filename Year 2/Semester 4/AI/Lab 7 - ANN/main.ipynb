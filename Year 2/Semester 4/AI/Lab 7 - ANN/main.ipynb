{
 "cells": [
  {
   "cell_type": "markdown",
   "source": [
    "pregatire data set"
   ],
   "metadata": {
    "collapsed": false
   },
   "id": "50cc169bc355a96c"
  },
  {
   "cell_type": "code",
   "execution_count": 8,
   "id": "initial_id",
   "metadata": {
    "collapsed": true,
    "ExecuteTime": {
     "end_time": "2025-04-17T15:20:33.999172Z",
     "start_time": "2025-04-17T15:18:58.155042400Z"
    }
   },
   "outputs": [
    {
     "name": "stdout",
     "output_type": "stream",
     "text": [
      "[✓] Processed: DSC06441.jpg\n",
      "[✓] Processed: DSC06442 - Copy.jpg\n",
      "[✓] Processed: DSC06442.jpg\n",
      "[✓] Processed: DSC06447.jpg\n",
      "[✓] Processed: DSC06462.jpg\n",
      "[✓] Processed: DSC06482.jpg\n",
      "[✓] Processed: DSC06496.jpg\n",
      "[✓] Processed: DSC06498.jpg\n",
      "[✓] Processed: WhatsApp Image 2025-03-20 at 19.08.04 (1).jpeg\n",
      "[✓] Processed: WhatsApp Image 2025-03-20 at 19.08.04 (2).jpeg\n",
      "[✓] Processed: WhatsApp Image 2025-03-20 at 19.08.04 (3).jpeg\n",
      "[✓] Processed: WhatsApp Image 2025-03-20 at 19.08.04 (4).jpeg\n",
      "[✓] Processed: WhatsApp Image 2025-03-20 at 19.08.04.jpeg\n",
      "[✓] Processed: WhatsApp Image 2025-03-20 at 19.08.06 (1).jpeg\n",
      "[✓] Processed: WhatsApp Image 2025-03-20 at 19.08.06 (2).jpeg\n",
      "[✓] Processed: WhatsApp Image 2025-03-20 at 19.08.06 (3).jpeg\n",
      "[✓] Processed: WhatsApp Image 2025-03-20 at 19.08.06 (4).jpeg\n",
      "[✓] Processed: WhatsApp Image 2025-03-20 at 19.08.06 (5).jpeg\n",
      "[✓] Processed: WhatsApp Image 2025-03-20 at 19.08.07 (1).jpeg\n",
      "[✓] Processed: WhatsApp Image 2025-04-17 at 02.03.21.jpeg\n",
      "[✓] Processed: WhatsApp Image 2025-04-17 at 02.03.22.jpeg\n",
      "[✓] Processed: WhatsApp Image 2025-04-17 at 02.03.23 (1).jpeg\n",
      "[✓] Processed: WhatsApp Image 2025-04-17 at 02.03.23.jpeg\n",
      "[✓] Processed: WhatsApp Image 2025-04-17 at 02.03.26 (1).jpeg\n",
      "[✓] Processed: WhatsApp Image 2025-04-17 at 02.03.26 (2).jpeg\n",
      "[✓] Processed: WhatsApp Image 2025-04-17 at 02.03.26 (3).jpeg\n",
      "[✓] Processed: WhatsApp Image 2025-04-17 at 02.03.26 (4).jpeg\n",
      "[✓] Processed: WhatsApp Image 2025-04-17 at 02.03.26 (5).jpeg\n",
      "[✓] Processed: WhatsApp Image 2025-04-17 at 02.03.26.jpeg\n",
      "[✓] Processed: WhatsApp Image 2025-04-17 at 02.03.27 (1).jpeg\n",
      "[✓] Processed: WhatsApp Image 2025-04-17 at 02.03.27 (10).jpeg\n",
      "[✓] Processed: WhatsApp Image 2025-04-17 at 02.03.27 (11).jpeg\n",
      "[✓] Processed: WhatsApp Image 2025-04-17 at 02.03.27 (12).jpeg\n",
      "[✓] Processed: WhatsApp Image 2025-04-17 at 02.03.27 (2).jpeg\n",
      "[✓] Processed: WhatsApp Image 2025-04-17 at 02.03.27 (3).jpeg\n",
      "[✓] Processed: WhatsApp Image 2025-04-17 at 02.03.27 (4).jpeg\n",
      "[✓] Processed: WhatsApp Image 2025-04-17 at 02.03.27 (5).jpeg\n",
      "[✓] Processed: WhatsApp Image 2025-04-17 at 02.03.27 (6).jpeg\n",
      "[✓] Processed: WhatsApp Image 2025-04-17 at 02.03.27 (7).jpeg\n",
      "[✓] Processed: WhatsApp Image 2025-04-17 at 02.03.27 (8).jpeg\n",
      "[✓] Processed: WhatsApp Image 2025-04-17 at 02.03.27 (9).jpeg\n",
      "[✓] Processed: WhatsApp Image 2025-04-17 at 02.03.27.jpeg\n",
      "[✓] Processed: WhatsApp Image 2025-04-17 at 02.03.29 (1).jpeg\n",
      "[✓] Processed: WhatsApp Image 2025-04-17 at 02.03.29 (10).jpeg\n",
      "[✓] Processed: WhatsApp Image 2025-04-17 at 02.03.29 (11).jpeg\n",
      "[✓] Processed: WhatsApp Image 2025-04-17 at 02.03.29 (12).jpeg\n",
      "[✓] Processed: WhatsApp Image 2025-04-17 at 02.03.29 (13).jpeg\n",
      "[✓] Processed: WhatsApp Image 2025-04-17 at 02.03.29 (14).jpeg\n",
      "[✓] Processed: WhatsApp Image 2025-04-17 at 02.03.29 (15).jpeg\n",
      "[✓] Processed: WhatsApp Image 2025-04-17 at 02.03.29 (16).jpeg\n",
      "[✓] Processed: WhatsApp Image 2025-04-17 at 02.03.29 (17).jpeg\n",
      "[✓] Processed: WhatsApp Image 2025-04-17 at 02.03.29 (18).jpeg\n",
      "[✓] Processed: WhatsApp Image 2025-04-17 at 02.03.29 (19).jpeg\n",
      "[✓] Processed: WhatsApp Image 2025-04-17 at 02.03.29 (2).jpeg\n",
      "[✓] Processed: WhatsApp Image 2025-04-17 at 02.03.29 (20).jpeg\n",
      "[✓] Processed: WhatsApp Image 2025-04-17 at 02.03.29 (3).jpeg\n",
      "[✓] Processed: WhatsApp Image 2025-04-17 at 02.03.29 (4).jpeg\n",
      "[✓] Processed: WhatsApp Image 2025-04-17 at 02.03.29 (5).jpeg\n",
      "[✓] Processed: WhatsApp Image 2025-04-17 at 02.03.29 (6).jpeg\n",
      "[✓] Processed: WhatsApp Image 2025-04-17 at 02.03.29 (7).jpeg\n",
      "[✓] Processed: WhatsApp Image 2025-04-17 at 02.03.29 (8).jpeg\n",
      "[✓] Processed: WhatsApp Image 2025-04-17 at 02.03.29 (9).jpeg\n",
      "[✓] Processed: WhatsApp Image 2025-04-17 at 02.03.29.jpeg\n"
     ]
    }
   ],
   "source": [
    "import os\n",
    "from PIL import Image\n",
    "import numpy as np\n",
    "import shutil\n",
    "\n",
    "def apply_sepia(img):\n",
    "    img = img.convert(\"RGB\")\n",
    "    np_img = np.array(img).astype(float)\n",
    "\n",
    "    sepia_filter = np.array([\n",
    "        [0.393, 0.769, 0.189],\n",
    "        [0.349, 0.686, 0.168],\n",
    "        [0.272, 0.534, 0.131]\n",
    "    ])\n",
    "\n",
    "    sepia_img = np_img @ sepia_filter.T\n",
    "    sepia_img = np.clip(sepia_img, 0, 255).astype(np.uint8)\n",
    "\n",
    "    return Image.fromarray(sepia_img)\n",
    "\n",
    "def build_sepia_dataset(original_dir=\"pictures\", target_dir=\"dataset\"):\n",
    "    original_target = os.path.join(target_dir, \"pictures\")\n",
    "    sepia_target = os.path.join(target_dir, \"sepia\")\n",
    "\n",
    "    os.makedirs(original_target, exist_ok=True)\n",
    "    os.makedirs(sepia_target, exist_ok=True)\n",
    "\n",
    "    for filename in os.listdir(original_dir):\n",
    "        if filename.lower().endswith((\".jpg\", \".jpeg\", \".png\")):\n",
    "            path = os.path.join(original_dir, filename)\n",
    "\n",
    "            try:\n",
    "                img = Image.open(path)\n",
    "                # Save original\n",
    "                shutil.copy(path, os.path.join(original_target, filename))\n",
    "\n",
    "                # Save sepia version\n",
    "                sepia_img = apply_sepia(img)\n",
    "                sepia_filename = os.path.splitext(filename)[0] + \"_sepia.jpg\"\n",
    "                sepia_img.save(os.path.join(sepia_target, sepia_filename))\n",
    "\n",
    "                print(f\"[✓] Processed: {filename}\")\n",
    "            except Exception as e:\n",
    "                print(f\"[✗] Error with {filename}: {e}\")\n",
    "\n",
    "build_sepia_dataset()"
   ]
  },
  {
   "cell_type": "markdown",
   "source": [
    "ANN - cu tool "
   ],
   "metadata": {
    "collapsed": false
   },
   "id": "7b5bfce6c685a94a"
  },
  {
   "cell_type": "code",
   "execution_count": 23,
   "outputs": [
    {
     "name": "stdout",
     "output_type": "stream",
     "text": [
      "\n",
      " Acuratețea modelului (ANN tool): 61.54%\n"
     ]
    },
    {
     "data": {
      "text/plain": "<Figure size 800x600 with 1 Axes>",
      "image/png": "[encoded data removed]"
     },
     "metadata": {},
     "output_type": "display_data"
    }
   ],
   "source": [
    "from sklearn.neural_network import MLPClassifier\n",
    "from sklearn.metrics import accuracy_score, confusion_matrix\n",
    "from sklearn.model_selection import train_test_split\n",
    "from torchvision import datasets, transforms\n",
    "from torch.utils.data import DataLoader\n",
    "import numpy as np\n",
    "\n",
    "def load_flattened_dataset(data_dir=\"dataset\", image_size=(64, 64)):\n",
    "    transform = transforms.Compose([\n",
    "        transforms.Resize(image_size),\n",
    "        transforms.ToTensor()\n",
    "    ])\n",
    "\n",
    "    dataset = datasets.ImageFolder(data_dir, transform=transform)\n",
    "    X = []\n",
    "    y = []\n",
    "\n",
    "    for img_tensor, label in dataset:\n",
    "        X.append(img_tensor.view(-1).numpy())  # flatten image\n",
    "        y.append(label)\n",
    "\n",
    "    return np.array(X), np.array(y)\n",
    "\n",
    "import matplotlib.pyplot as plt\n",
    "import seaborn as sns\n",
    "\n",
    "def train_ann_with_tool(X, y):\n",
    "    X_train, X_test, y_train, y_test = train_test_split(\n",
    "        X, y, test_size=0.2, random_state=42, stratify=y)\n",
    "\n",
    "    clf = MLPClassifier(\n",
    "        hidden_layer_sizes=(128, 64),\n",
    "        activation='relu',\n",
    "        solver='adam',\n",
    "        max_iter=1000,\n",
    "        random_state=42,\n",
    "        learning_rate_init=0.001\n",
    "    )\n",
    "\n",
    "    clf.fit(X_train, y_train)\n",
    "    y_pred = clf.predict(X_test)\n",
    "\n",
    "    acc = accuracy_score(y_test, y_pred)\n",
    "    cm = confusion_matrix(y_test, y_pred)\n",
    "\n",
    "    print(f\"\\n Acuratețea modelului (ANN tool): {acc * 100:.2f}%\")\n",
    "\n",
    "    plt.figure(figsize=(8, 6))\n",
    "    sns.heatmap(cm, annot=True, fmt='d', cmap='Blues', cbar=False)\n",
    "    plt.title(\" Matricea de Confuzie\")\n",
    "    plt.xlabel(\"Predicted Labels\")\n",
    "    plt.ylabel(\"True Labels\")\n",
    "    plt.show()\n",
    "\n",
    "X, y = load_flattened_dataset(\"dataset\", image_size=(64, 64))\n",
    "model = train_ann_with_tool(X, y) "
   ],
   "metadata": {
    "collapsed": false,
    "ExecuteTime": {
     "end_time": "2025-04-17T10:35:57.230424400Z",
     "start_time": "2025-04-17T10:35:14.393957Z"
    }
   },
   "id": "f3d4111210e3b6dc"
  },
  {
   "cell_type": "markdown",
   "source": [
    "Analiza parametrilor: \n",
    "- initial am primit o acuratete de 51% cu tool, si apoi am schimbat learning rate ul sa fie de 0.001 si am adaugat mai multe epoci ( aici hidden layer ul avea size-ul de (128,64) \n",
    "- dupa schimbare am ajuns la un learning rate de 61%... dar se poate mai bine\n",
    "- am schimbat numarul de epoci de la 500 la 1000 => acuratetea modelului nu s-a schimbat \n",
    "- sa adaugam mai multe noduri in reteaua hidden, mai exact hidden_layer_sizes=(256, 128, 64), dar acuratetea a scazut la 57% => overfitting\n",
    "- "
   ],
   "metadata": {
    "collapsed": false
   },
   "id": "fda95acce2fcb555"
  },
  {
   "cell_type": "markdown",
   "source": [
    "<H2> ANN - COD PROPRIU </H2> "
   ],
   "metadata": {
    "collapsed": false
   },
   "id": "a014d1a9b95eb62"
  },
  {
   "cell_type": "markdown",
   "source": [
    "prelucrarea pozelor fara torch"
   ],
   "metadata": {
    "collapsed": false
   },
   "id": "f52365cbf501dde"
  },
  {
   "cell_type": "code",
   "execution_count": 16,
   "outputs": [],
   "source": [
    "def load_sepia_data_owned(folder=\"dataset\", size=(64, 64)):\n",
    "    X = []\n",
    "    y = []\n",
    "\n",
    "    for label, subfolder in enumerate([\"pictures\", \"sepia\"]):\n",
    "        path = os.path.join(folder, subfolder)\n",
    "        for fname in os.listdir(path):\n",
    "            if fname.endswith((\".jpg\", \".jpeg\", \".png\")):\n",
    "                img = Image.open(os.path.join(path, fname)).convert(\"L\").resize(size)\n",
    "                arr = np.array(img).flatten() / 255.0\n",
    "                X.append(arr)\n",
    "                y.append(label)\n",
    "\n",
    "    X = np.array(X)\n",
    "    y = np.array(y).reshape(-1, 1)\n",
    "\n",
    "    idx = np.random.permutation(len(X))\n",
    "    return X[idx], y[idx] \n",
    "\n",
    "def separate_date(inputs, outputs):\n",
    "  np.random.seed(5)\n",
    "  indexes = [i for i in range(len(inputs))]\n",
    "  trainSample = np.random.choice(indexes, int(0.8 * len(inputs)), replace = False)\n",
    "  validationSample = [i for i in indexes  if not i in trainSample]\n",
    "  trainInputs = [inputs[i] for i in trainSample]\n",
    "  trainOutputs = [outputs[i] for i in trainSample]\n",
    "  validationInputs = [inputs[i] for i in validationSample]\n",
    "  validationOutputs = [outputs[i] for i in validationSample]\n",
    "  return trainInputs, trainOutputs, validationInputs, validationOutputs"
   ],
   "metadata": {
    "collapsed": false,
    "ExecuteTime": {
     "end_time": "2025-04-17T10:13:38.769970800Z",
     "start_time": "2025-04-17T10:13:38.752025800Z"
    }
   },
   "id": "1454d5379ef7266d"
  },
  {
   "cell_type": "markdown",
   "source": [
    "model ANN"
   ],
   "metadata": {
    "collapsed": false
   },
   "id": "57e66e8f1f81b1ec"
  },
  {
   "cell_type": "code",
   "execution_count": 10,
   "outputs": [],
   "source": [
    "def sigmoid(x):\n",
    "    return 1 / (1 + np.exp(-x))\n",
    "\n",
    "def sigmoid_deriv(x):\n",
    "    return x * (1 - x)\n",
    "\n",
    "def relu(x):\n",
    "    return np.maximum(0, x)\n",
    "\n",
    "def relu_deriv(x):\n",
    "    return (x > 0).astype(float)\n",
    "\n",
    "def binary_cross_entropy(y_true, y_pred):\n",
    "    eps = 1e-8\n",
    "    return -np.mean(y_true * np.log(y_pred + eps) + (1 - y_true) * np.log(1 - y_pred + eps))\n",
    "\n",
    "class ANN:\n",
    "    def __init__(self, input_size, hidden_size):\n",
    "       self.W1 = np.random.randn(input_size, hidden_size) * np.sqrt(2 / input_size)\n",
    "       self.b1 = np.zeros((1, hidden_size))\n",
    "       self.W2 = np.random.randn(hidden_size, 1) * np.sqrt(2 / hidden_size)\n",
    "       self.b2 = np.zeros((1, 1))\n",
    "\n",
    "    def forward(self, X):\n",
    "        self.Z1 = X @ self.W1 + self.b1\n",
    "        self.A1 = relu(self.Z1)\n",
    "        self.Z2 = self.A1 @ self.W2 + self.b2\n",
    "        self.A2 = sigmoid(self.Z2)\n",
    "        return self.A2\n",
    "\n",
    "    def backward(self, X, y, output, lr=0.01):\n",
    "        m = len(y)\n",
    "        dZ2 = output - y\n",
    "        dW2 = self.A1.T @ dZ2 / m\n",
    "        db2 = np.sum(dZ2, axis=0, keepdims=True) / m\n",
    "\n",
    "        dA1 = dZ2 @ self.W2.T\n",
    "        dZ1 = dA1 * relu_deriv(self.Z1)\n",
    "        dW1 = X.T @ dZ1 / m\n",
    "        db1 = np.sum(dZ1, axis=0, keepdims=True) / m\n",
    "\n",
    "        self.W2 -= lr * dW2\n",
    "        self.b2 -= lr * db2\n",
    "        self.W1 -= lr * dW1\n",
    "        self.b1 -= lr * db1\n",
    "\n",
    "    def train(self, X, y, epochs=1000, lr=0.01):\n",
    "        for i in range(epochs):\n",
    "            output = self.forward(X)\n",
    "            loss = binary_cross_entropy(y, output)\n",
    "            self.backward(X, y, output, lr)\n",
    "            if i % 100 == 0:\n",
    "                print(f\"Epoch {i}: loss = {loss:.4f}\")\n",
    "                \n",
    "        losses = []\n",
    "        for i in range(epochs):\n",
    "           output = self.forward(X)\n",
    "           loss = binary_cross_entropy(y, output)\n",
    "           losses.append(loss)\n",
    "           self.backward(X, y, output, lr)\n",
    "           if i % 100 == 0:\n",
    "             print(f\"Epoch {i}: loss = {loss:.4f}\")\n",
    "\n",
    "        plt.plot(losses)\n",
    "        plt.xlabel(\"Epocă\")\n",
    "        plt.ylabel(\"Loss\")\n",
    "        plt.title(\"Loss în timp\")\n",
    "        plt.grid(True)\n",
    "        plt.show()\n",
    "\n",
    "    def predict(self, X):\n",
    "        output = self.forward(X)\n",
    "        return (output >= 0.5).astype(int)"
   ],
   "metadata": {
    "collapsed": false,
    "ExecuteTime": {
     "end_time": "2025-04-17T15:21:30.783990100Z",
     "start_time": "2025-04-17T15:21:30.763078200Z"
    }
   },
   "id": "f5aa5a089be5e715"
  },
  {
   "cell_type": "code",
   "execution_count": 52,
   "outputs": [
    {
     "name": "stdout",
     "output_type": "stream",
     "text": [
      "{np.int64(0): np.int64(50), np.int64(1): np.int64(50)}\n",
      "Epoch 0: loss = 0.7047\n",
      "Epoch 100: loss = 0.6961\n",
      "Epoch 200: loss = 0.6944\n",
      "Epoch 300: loss = 0.6932\n",
      "Epoch 400: loss = 0.6922\n",
      "Epoch 500: loss = 0.6912\n",
      "Epoch 600: loss = 0.6903\n",
      "Epoch 700: loss = 0.6894\n",
      "Epoch 800: loss = 0.6886\n",
      "Epoch 900: loss = 0.6878\n",
      "Epoch 1000: loss = 0.6871\n",
      "Epoch 1100: loss = 0.6864\n",
      "Epoch 1200: loss = 0.6857\n",
      "Epoch 1300: loss = 0.6851\n",
      "Epoch 1400: loss = 0.6844\n",
      "Epoch 1500: loss = 0.6838\n",
      "Epoch 1600: loss = 0.6832\n",
      "Epoch 1700: loss = 0.6826\n",
      "Epoch 1800: loss = 0.6820\n",
      "Epoch 1900: loss = 0.6814\n",
      "Epoch 2000: loss = 0.6809\n",
      "Epoch 2100: loss = 0.6803\n",
      "Epoch 2200: loss = 0.6798\n",
      "Epoch 2300: loss = 0.6793\n",
      "Epoch 2400: loss = 0.6788\n",
      "Epoch 2500: loss = 0.6782\n",
      "Epoch 2600: loss = 0.6778\n",
      "Epoch 2700: loss = 0.6773\n",
      "Epoch 2800: loss = 0.6768\n",
      "Epoch 2900: loss = 0.6763\n",
      "Epoch 0: loss = 0.6758\n",
      "Epoch 100: loss = 0.6753\n",
      "Epoch 200: loss = 0.6749\n",
      "Epoch 300: loss = 0.6744\n",
      "Epoch 400: loss = 0.6739\n",
      "Epoch 500: loss = 0.6734\n",
      "Epoch 600: loss = 0.6730\n",
      "Epoch 700: loss = 0.6725\n",
      "Epoch 800: loss = 0.6720\n",
      "Epoch 900: loss = 0.6716\n",
      "Epoch 1000: loss = 0.6711\n",
      "Epoch 1100: loss = 0.6707\n",
      "Epoch 1200: loss = 0.6702\n",
      "Epoch 1300: loss = 0.6698\n",
      "Epoch 1400: loss = 0.6694\n",
      "Epoch 1500: loss = 0.6689\n",
      "Epoch 1600: loss = 0.6685\n",
      "Epoch 1700: loss = 0.6680\n",
      "Epoch 1800: loss = 0.6676\n",
      "Epoch 1900: loss = 0.6672\n",
      "Epoch 2000: loss = 0.6667\n",
      "Epoch 2100: loss = 0.6663\n",
      "Epoch 2200: loss = 0.6658\n",
      "Epoch 2300: loss = 0.6653\n",
      "Epoch 2400: loss = 0.6649\n",
      "Epoch 2500: loss = 0.6644\n",
      "Epoch 2600: loss = 0.6639\n",
      "Epoch 2700: loss = 0.6634\n",
      "Epoch 2800: loss = 0.6630\n",
      "Epoch 2900: loss = 0.6626\n"
     ]
    },
    {
     "data": {
      "text/plain": "<Figure size 640x480 with 1 Axes>",
      "image/png": "[encoded data removed]"
     },
     "metadata": {},
     "output_type": "display_data"
    },
    {
     "name": "stdout",
     "output_type": "stream",
     "text": [
      "\n",
      " Acuratețea pe test set (inversată): 73.08%\n",
      "\n",
      " Matrice de confuzie:\n",
      "[[12  1]\n",
      " [ 6  7]]\n"
     ]
    },
    {
     "data": {
      "text/plain": "<Figure size 500x400 with 2 Axes>",
      "image/png": "[encoded data removed]"
     },
     "metadata": {},
     "output_type": "display_data"
    }
   ],
   "source": [
    "\n",
    "X, y = load_sepia_data_owned(\"dataset\", size=(64, 64))\n",
    "\n",
    "\n",
    "trainX, trainY, valX, valY = separate_date(X.tolist(), y.tolist())\n",
    "X_train = np.array(trainX)\n",
    "y_train = np.array(trainY).reshape(-1, 1)\n",
    "X_test = np.array(valX)\n",
    "y_test = np.array(valY).reshape(-1, 1)\n",
    "unique, counts = np.unique(y_train, return_counts=True)\n",
    "print(dict(zip(unique, counts)))\n",
    "\n",
    "np.random.seed(42)\n",
    "model = ANN(input_size=X.shape[1], hidden_size=128)\n",
    "model.train(X_train, y_train, epochs=3000, lr=0.0001)\n",
    "\n",
    "y_pred = 1 - model.predict(X_test) \n",
    "acc = np.mean(y_pred == y_test)\n",
    "print(f\"\\n Acuratețea pe test set (inversată): {acc * 100:.2f}%\")\n",
    "\n",
    "cm = confusion_matrix(y_test, y_pred)\n",
    "print(\"\\n Matrice de confuzie:\")\n",
    "print(cm)\n",
    "\n",
    "plt.figure(figsize=(5, 4))\n",
    "sns.heatmap(cm, annot=True, fmt='d', cmap=\"BuPu\", xticklabels=[\"Normal\", \"Sepia\"], yticklabels=[\"Normal\", \"Sepia\"])\n",
    "plt.xlabel(\"Etichetă prezisă\")\n",
    "plt.ylabel(\"Etichetă reală\")\n",
    "plt.title(\" Matrice de confuzie - clasificare imagini\")\n",
    "plt.show()\n",
    "\n"
   ],
   "metadata": {
    "collapsed": false,
    "ExecuteTime": {
     "end_time": "2025-04-17T11:23:55.673381Z",
     "start_time": "2025-04-17T11:22:10.294257300Z"
    }
   },
   "id": "6ca62501584dc0f3"
  },
  {
   "cell_type": "markdown",
   "source": [
    "- aici initial aveam 64 de neuroni pe stratul de intrare, un nr de epoci mic si lr de 0.1... si mi a dat acuratetea 7% \n",
    "- <i> Pentru toate testele de mai jos avem un numar de 2000 de epoci </i> \n",
    "- am modificat la 128 de neuroni si lr ul la 0.001 si mi a dat 57%\n",
    "- daca am adaugat lr=0.00001, a scauzt la 41% => invata prea lent si nu converge \n",
    "- daca punem lr= 0.01 : acuratetea a scazut la 19% sare prea mult si modelul se zbate cumva \n",
    "- lr = 0.001 : acuratetea 34% a crescut, dar tot sare si 256 de noduri pe hidden layer \n",
    "- acelasi lr dar mai putine noduri - a devenit o acuratete de 50% - modelul iese din overfitting\n",
    "- lr = 0.0001 + 128 noduri  - sub 40%\n",
    "- acum daca am schimbat la 3000 de ecoci da 73%\n",
    "- "
   ],
   "metadata": {
    "collapsed": false
   },
   "id": "d22783336d56fde0"
  },
  {
   "cell_type": "markdown",
   "source": [
    "<h1> CNN - Cod Propriu </h1> \n",
    "pas 1: convolutie"
   ],
   "metadata": {
    "collapsed": false
   },
   "id": "a065d912dcf3fc82"
  },
  {
   "cell_type": "code",
   "execution_count": 2,
   "outputs": [],
   "source": [
    "def load_sepia_data_owned_cnn(folder=\"dataset\", size=(64, 64)):\n",
    "    X = []\n",
    "    y = []\n",
    "\n",
    "    for label, subfolder in enumerate([\"pictures\", \"sepia\"]):\n",
    "        path = os.path.join(folder, subfolder)\n",
    "        for fname in os.listdir(path):\n",
    "            if fname.endswith((\".jpg\", \".jpeg\", \".png\")):\n",
    "                img = Image.open(os.path.join(path, fname)).convert(\"L\").resize(size)\n",
    "                arr = np.array(img).astype(\"float32\") / 255.0   \n",
    "                X.append(arr)\n",
    "                y.append(label)\n",
    "\n",
    "    X = np.array(X)\n",
    "    y = np.array(y).reshape(-1, 1)\n",
    "\n",
    "    idx = np.random.permutation(len(X))\n",
    "    return X[idx], y[idx]"
   ],
   "metadata": {
    "collapsed": false,
    "ExecuteTime": {
     "end_time": "2025-04-17T15:18:35.232691900Z",
     "start_time": "2025-04-17T15:18:35.219534300Z"
    }
   },
   "id": "3c99e5d0e0420a63"
  },
  {
   "cell_type": "code",
   "execution_count": 3,
   "outputs": [],
   "source": [
    "def conv2d(image, kernel, padding=0, stride=1):\n",
    "  \n",
    "    image_h, image_w = image.shape\n",
    "    kernel_h, kernel_w = kernel.shape\n",
    "\n",
    "    if padding > 0:\n",
    "        padded_image = np.pad(image, ((padding, padding), (padding, padding)), mode='constant')\n",
    "    else:\n",
    "        padded_image = image\n",
    "\n",
    "    out_h = ((image_h - kernel_h + 2 * padding) // stride) + 1\n",
    "    out_w = ((image_w - kernel_w + 2 * padding) // stride) + 1\n",
    "\n",
    "    output = np.zeros((out_h, out_w))\n",
    "\n",
    "    for y in range(0, out_h):\n",
    "        for x in range(0, out_w):\n",
    "            region = padded_image[y*stride:y*stride+kernel_h, x*stride:x*stride+kernel_w]\n",
    "            output[y, x] = np.sum(region * kernel)\n",
    "\n",
    "    return output"
   ],
   "metadata": {
    "collapsed": false,
    "ExecuteTime": {
     "end_time": "2025-04-17T15:18:38.089427300Z",
     "start_time": "2025-04-17T15:18:38.081597600Z"
    }
   },
   "id": "35bbcff106d5fdf2"
  },
  {
   "cell_type": "markdown",
   "source": [
    "max pooling ca sa reducem dimensiunea imaginilor si sa pastram doar maximul "
   ],
   "metadata": {
    "collapsed": false
   },
   "id": "c657a0ff4b8d84f3"
  },
  {
   "cell_type": "code",
   "execution_count": 4,
   "outputs": [],
   "source": [
    "def max_pooling2d(feature_map, size=2, stride=2):\n",
    "    h, w = feature_map.shape\n",
    "    out_h = (h - size) // stride + 1\n",
    "    out_w = (w - size) // stride + 1\n",
    "    pooled = np.zeros((out_h, out_w))\n",
    "\n",
    "    for i in range(0, h - size + 1, stride):\n",
    "        for j in range(0, w - size + 1, stride):\n",
    "            region = feature_map[i:i+size, j:j+size]\n",
    "            pooled[i // stride, j // stride] = np.max(region)\n",
    "\n",
    "    return pooled"
   ],
   "metadata": {
    "collapsed": false,
    "ExecuteTime": {
     "end_time": "2025-04-17T15:18:40.508467800Z",
     "start_time": "2025-04-17T15:18:40.487530600Z"
    }
   },
   "id": "cf912291895c049b"
  },
  {
   "cell_type": "code",
   "execution_count": 5,
   "outputs": [],
   "source": [
    "def flatten(feature_map):\n",
    "    return feature_map.flatten().reshape(1, -1)\n",
    "\n",
    "def dense_layer(input_vec, weights, bias):\n",
    "    return np.dot(input_vec, weights) + bias"
   ],
   "metadata": {
    "collapsed": false,
    "ExecuteTime": {
     "end_time": "2025-04-17T15:18:42.572132800Z",
     "start_time": "2025-04-17T15:18:42.562882300Z"
    }
   },
   "id": "c202b453e1f28eaf"
  },
  {
   "cell_type": "code",
   "execution_count": 6,
   "outputs": [],
   "source": [
    "def forward(image, kernel, W, b):\n",
    "    image = np.squeeze(image) \n",
    "    x = conv2d(image, kernel, padding=1)\n",
    "    x = max_pooling2d(x)\n",
    "    flat = flatten(x)\n",
    "    z = np.dot(flat, W) + b\n",
    "    out = sigmoid(z)\n",
    "    return out, flat\n",
    "\n",
    "def train(X_train, y_train, kernel, W, b, lr=0.01, epochs=10):\n",
    "    for epoch in range(epochs):\n",
    "        loss = 0\n",
    "        for img, y_true in zip(X_train, y_train):\n",
    "            y_pred, flat = forward(img, kernel, W, b)\n",
    "            error = y_pred - y_true\n",
    "            loss += np.squeeze(error**2)\n",
    "\n",
    "            # BACKPROP: doar pe layer-ul fully connected\n",
    "            dZ = error * sigmoid_deriv(y_pred)\n",
    "            dW = flat.T @ dZ\n",
    "            db = dZ\n",
    "\n",
    "            W -= lr * dW\n",
    "            b -= lr * db\n",
    "\n",
    "        print(f\"Epoch {epoch+1}: Loss = {loss/len(X_train):.4f}\")\n",
    "    return kernel, W, b\n",
    "\n",
    "def predict(image, kernel, W, b):\n",
    "    y_pred, _ = forward(image, kernel, W, b)\n",
    "    return 1 if y_pred >= 0.5 else 0\n",
    "\n",
    "def evaluate(X, y, kernel, W, b):\n",
    "    correct = 0\n",
    "    for img, label in zip(X, y):\n",
    "        pred = predict(img, kernel, W, b)\n",
    "        if pred == label:\n",
    "            correct += 1\n",
    "    return correct / len(X)"
   ],
   "metadata": {
    "collapsed": false,
    "ExecuteTime": {
     "end_time": "2025-04-17T15:18:45.990582800Z",
     "start_time": "2025-04-17T15:18:45.980637Z"
    }
   },
   "id": "b1708ca23d11097a"
  },
  {
   "cell_type": "code",
   "execution_count": 11,
   "outputs": [
    {
     "name": "stdout",
     "output_type": "stream",
     "text": [
      "Epoch 1: Loss = 0.2486\n",
      "Epoch 2: Loss = 0.2484\n",
      "Epoch 3: Loss = 0.2482\n",
      "Epoch 4: Loss = 0.2480\n",
      "Epoch 5: Loss = 0.2478\n",
      "Epoch 6: Loss = 0.2476\n",
      "Epoch 7: Loss = 0.2474\n",
      "Epoch 8: Loss = 0.2472\n",
      "Epoch 9: Loss = 0.2470\n",
      "Epoch 10: Loss = 0.2468\n",
      "Epoch 11: Loss = 0.2466\n",
      "Epoch 12: Loss = 0.2464\n",
      "Epoch 13: Loss = 0.2462\n",
      "Epoch 14: Loss = 0.2460\n",
      "Epoch 15: Loss = 0.2458\n",
      "\n",
      " Acuratețe train: 52.00%\n",
      " Acuratețe test:  50.00%\n"
     ]
    }
   ],
   "source": [
    "X, y = load_sepia_data_owned_cnn(\"dataset\", size=(64, 64))\n",
    "\n",
    "\n",
    "np.random.seed(42)\n",
    "idx = np.random.permutation(len(X))\n",
    "X, y = X[idx], y[idx]\n",
    "split = int(0.8 * len(X))\n",
    "X_train, X_test = X[:split], X[split:]\n",
    "y_train, y_test = y[:split], y[split:]\n",
    "\n",
    "\n",
    "kernel = np.random.randn(3, 3) * 0.1\n",
    "feature_size = ((64 - 3 + 2*1) // 1 + 1) // 2\n",
    "flat_size = feature_size * feature_size\n",
    "W = np.random.randn(flat_size, 1) * 0.1\n",
    "b = np.zeros((1, 1))\n",
    "\n",
    "\n",
    "kernel, W, b = train(X_train, y_train, kernel, W, b, lr=0.01, epochs=15)\n",
    "\n",
    "\n",
    "train_acc = evaluate(X_train, y_train, kernel, W, b)\n",
    "test_acc = evaluate(X_test, y_test, kernel, W, b)\n",
    "\n",
    "print(f\"\\n Acuratețe train: {train_acc * 100:.2f}%\")\n",
    "print(f\" Acuratețe test:  {test_acc * 100:.2f}%\")"
   ],
   "metadata": {
    "collapsed": false,
    "ExecuteTime": {
     "end_time": "2025-04-17T15:22:36.790439100Z",
     "start_time": "2025-04-17T15:21:35.677648300Z"
    }
   },
   "id": "fa2986a1cccaef99"
  }
 ],
 "metadata": {
  "kernelspec": {
   "display_name": "Python 3",
   "language": "python",
   "name": "python3"
  },
  "language_info": {
   "codemirror_mode": {
    "name": "ipython",
    "version": 2
   },
   "file_extension": ".py",
   "mimetype": "text/x-python",
   "name": "python",
   "nbconvert_exporter": "python",
   "pygments_lexer": "ipython2",
   "version": "2.7.6"
  }
 },
 "nbformat": 4,
 "nbformat_minor": 5
}
