{
 "cells": [
  {
   "cell_type": "code",
   "execution_count": 17,
   "id": "initial_id",
   "metadata": {
    "collapsed": true,
    "ExecuteTime": {
     "end_time": "2025-03-30T19:06:04.886146400Z",
     "start_time": "2025-03-30T19:06:01.738574100Z"
    }
   },
   "outputs": [
    {
     "name": "stdout",
     "output_type": "stream",
     "text": [
      "It is the rate of progress once intensive intervention has started that is\n",
      "usually most indicative of outcome. The assessors and Mary's parents agreed\n",
      "that Mary would need speech and language therapy twice a week with a ther-\n",
      "apist experienced in interactive approaches, as well as sensory integration\n",
      "approaches to address her low muscle tone, oral-motor, and motor planning\n",
      "difficulties. Similarly, the occupational therapist would use interactive rela-\n",
      "tionship approaches while treating the above concerns at least twice a week.\n",
      "Mary was also enrolled in an inclusion preschool with teachers who first\n",
      "developed their relationships with her in one-to-one interaction, prepared\n",
      "her for group activities by practicing songs and gestures, provided visual\n",
      "props during circle or story time, and facilitated interaction with other chil-\n",
      "dren. A nutritional assessment was also suggested, since Mary craved certain\n",
      "foods and might also benefit from certain supplements.\n",
      "Most important, interactive developmental therapy (twice a week) with\n",
      "Mary, her parents, and her nanny would support the integration of her abil-\n",
      "ities through relationship-based interactions. A home program would be\n",
      "developed which would insure that Mary was engaged throughout the day\n",
      "with frequent floor-time play sessions; continuous interactions around daily\n",
      "needs, such as requests for food, diaper changes, and baths; and occupation-\n",
      "al therapy activities to organize her body, movements, and energy to enable\n",
      "her to participate more actively in all she did.\n",
      "Intervention\n",
      "Mary made consistent progress during the course of the intervention. Since\n",
      "she was already enrolled in a speech and language special education program,\n",
      "she continued to attend for the rest of the year and then transferred to a full-\n",
      "inclusion nursery school program. She also received interactive developmen-\n",
      "tal therapy, speech and occupational therapies, Tomatis auditory training,\n",
      "and psychiatric consultation. Frequent play dates were provided. After she\n",
      "entered kindergarten, Mary was also enrolled in a soccer class and later Tai\n",
      "Kwon Do. Mary made consistent progress throughout the next four years,\n",
      "becoming a friendly, warm, related, and bright child. She was admitted into\n",
      "one of the Kindergarten-3rd grade schools, where she is doing very well aca-\n",
      "demically, somewhat stronger in math than in reading and comprehension.\n",
      "She enjoys drama and loves to perform, creating her own scripts and direct-\n",
      "ing productions. She tends to be somewhat reticent in new situations but\n",
      "adapts quickly and enjoys communicating with adults, curious about every-\n",
      "thing and always asking questions. She prefers playing with a few close\n",
      "friends rather than in large groups. Mary is very involved in her family life\n",
      "and greatly enjoys her relationships.\n",
      "Prognosis\n",
      "Mary no longer meets the criteria for a mental health diagnosis. She has\n",
      "attained all functional developmental levels. It is expected Mary will contin-\n",
      "ue to do well.\n"
     ]
    }
   ],
   "source": [
    "from azure.cognitiveservices.vision.computervision import ComputerVisionClient\n",
    "from azure.cognitiveservices.vision.computervision.models import OperationStatusCodes\n",
    "from azure.cognitiveservices.vision.computervision.models import VisualFeatureTypes\n",
    "from msrest.authentication import CognitiveServicesCredentials\n",
    "from array import array\n",
    "import os\n",
    "from PIL import Image\n",
    "import sys\n",
    "import time\n",
    "\n",
    "'''\n",
    "Authenticate\n",
    "Authenticates your credentials and creates a client.\n",
    "'''\n",
    "subscription_key = os.environ[\"VISION_KEY\"]\n",
    "endpoint = os.environ[\"VISION_ENDPOINT\"]\n",
    "computervision_client = ComputerVisionClient(endpoint, CognitiveServicesCredentials(subscription_key))\n",
    "'''\n",
    "END - Authenticate\n",
    "'''\n",
    "\n",
    "img = open(\"C:\\\\Users\\\\emato\\\\Pictures\\\\Screenshots\\\\Screenshot 2025-03-30 220540.png\", \"rb\")\n",
    "read_response = computervision_client.read_in_stream(\n",
    "    image=img,\n",
    "    mode=\"Printed\",\n",
    "    raw=True\n",
    ")\n",
    "\n",
    "operation_id = read_response.headers['Operation-Location'].split('/')[-1]\n",
    "while True:\n",
    "    read_result = computervision_client.get_read_result(operation_id)\n",
    "    if read_result.status not in ['notStarted', 'running']:\n",
    "        break\n",
    "    time.sleep(1)\n",
    "\n",
    "\n",
    "result = []\n",
    "if read_result.status == OperationStatusCodes.succeeded:\n",
    "    for text_result in read_result.analyze_result.read_results:\n",
    "        for line in text_result.lines:\n",
    "            print(line.text)\n",
    "            result.append(line.text)\n",
    "\n"
   ]
  }
 ],
 "metadata": {
  "kernelspec": {
   "display_name": "Python 3",
   "language": "python",
   "name": "python3"
  },
  "language_info": {
   "codemirror_mode": {
    "name": "ipython",
    "version": 2
   },
   "file_extension": ".py",
   "mimetype": "text/x-python",
   "name": "python",
   "nbconvert_exporter": "python",
   "pygments_lexer": "ipython2",
   "version": "2.7.6"
  }
 },
 "nbformat": 4,
 "nbformat_minor": 5
}
