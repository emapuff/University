{
 "cells": [
  {
   "cell_type": "code",
   "execution_count": 2,
   "id": "initial_id",
   "metadata": {
    "collapsed": true,
    "ExecuteTime": {
     "end_time": "2025-03-12T19:37:12.119134400Z",
     "start_time": "2025-03-12T19:37:09.108288500Z"
    }
   },
   "outputs": [
    {
     "name": "stdout",
     "output_type": "stream",
     "text": [
      "25974\n"
     ]
    },
    {
     "name": "stderr",
     "output_type": "stream",
     "text": [
      "C:\\Users\\emato\\AppData\\Local\\Temp\\ipykernel_8068\\2399595075.py:3: DtypeWarning: Columns (0,18,32,49,56,69,88,100,107,113,139,184,195,201,202,253,266,278,283,285,286,287,288,289,290,291,292,301,322,339,347,355,367) have mixed types. Specify dtype option on import or set low_memory=False.\n",
      "  dataFrame = pd.read_csv(\"surveyDataSience.csv\")\n"
     ]
    }
   ],
   "source": [
    "import csv \n",
    "import pandas as pd \n",
    "dataFrame = pd.read_csv(\"surveyDataSience.csv\")\n",
    "print(dataFrame.shape[0])\n",
    "#avem notiunea de shape "
   ]
  },
  {
   "cell_type": "markdown",
   "source": [
    "Numarul de atribute\n"
   ],
   "metadata": {
    "collapsed": false
   },
   "id": "bf24215f995f6f67"
  },
  {
   "cell_type": "code",
   "execution_count": 3,
   "outputs": [
    {
     "name": "stdout",
     "output_type": "stream",
     "text": [
      "369\n"
     ]
    }
   ],
   "source": [
    "print(dataFrame.shape[1]) #numar de atribute "
   ],
   "metadata": {
    "collapsed": false,
    "ExecuteTime": {
     "end_time": "2025-03-06T16:54:09.615402Z",
     "start_time": "2025-03-06T16:54:09.601909100Z"
    }
   },
   "id": "93d1a03ed30f866b"
  },
  {
   "cell_type": "code",
   "execution_count": 4,
   "outputs": [
    {
     "data": {
      "text/plain": "Time from Start to Finish (seconds)    object\nQ1                                     object\nQ2                                     object\nQ3                                     object\nQ4                                     object\n                                        ...  \nQ38_B_Part_8                           object\nQ38_B_Part_9                           object\nQ38_B_Part_10                          object\nQ38_B_Part_11                          object\nQ38_B_OTHER                            object\nLength: 369, dtype: object"
     },
     "execution_count": 4,
     "metadata": {},
     "output_type": "execute_result"
    }
   ],
   "source": [
    "dataFrame.dtypes"
   ],
   "metadata": {
    "collapsed": false,
    "ExecuteTime": {
     "end_time": "2025-03-06T16:57:47.818425500Z",
     "start_time": "2025-03-06T16:57:47.749043500Z"
    }
   },
   "id": "c80e785b08453519"
  },
  {
   "cell_type": "markdown",
   "source": [
    "Numarul de reponderenti cu date complete "
   ],
   "metadata": {
    "collapsed": false
   },
   "id": "4e5728170486beef"
  },
  {
   "cell_type": "code",
   "execution_count": 7,
   "outputs": [
    {
     "data": {
      "text/plain": "1"
     },
     "execution_count": 7,
     "metadata": {},
     "output_type": "execute_result"
    }
   ],
   "source": [
    "dataFrame.dropna().shape[0] "
   ],
   "metadata": {
    "collapsed": false,
    "ExecuteTime": {
     "end_time": "2025-03-06T17:05:34.732524800Z",
     "start_time": "2025-03-06T17:05:34.406396300Z"
    }
   },
   "id": "59d0a18d77cae042"
  },
  {
   "cell_type": "markdown",
   "source": [
    "durata medie a anilor de studii superioare pentru acesti respondenti (cea efectiva sau cea estimata), durata medie a anilor de studii pentru respondentii din Romania si durata medie a anilor de studii pentru respondentii din Romania care sunt femei. Comparati rezultatele obtinute pentru cele trei grupuri de respondenti. Se presupune ca studiile de licenta dureaza 3 ani, cele de master 2 ani si cele de doctorat 3 ani.\n"
   ],
   "metadata": {
    "collapsed": false
   },
   "id": "64fb2971719fb02e"
  },
  {
   "cell_type": "code",
   "execution_count": 29,
   "outputs": [
    {
     "name": "stdout",
     "output_type": "stream",
     "text": [
      "Durata medie a anilor de studii superioare 3.9555324555324556\n",
      "Durata medie a anilor de studii Romania 4.163934426229508\n",
      "Durata medie a anilor de studii a femeilor in romania 4.75\n"
     ]
    }
   ],
   "source": [
    "dataFrame[\"durata_studii\"] = (\n",
    "    dataFrame[\"Q4\"].str.contains(\"Bachelor’s degree\").astype(int) * 3 + \n",
    "    dataFrame[\"Q4\"].str.contains(\"Master’s degree\").astype(int) * 5 + \n",
    "    dataFrame[\"Q4\"].str.contains(\"Doctoral degree\").astype(int) * 8\n",
    ")\n",
    "medie = dataFrame[\"durata_studii\"].mean()\n",
    "medie_Ro = dataFrame[dataFrame[\"Q3\"] == \"Romania\"][\"durata_studii\"].mean()\n",
    "df_women = dataFrame[(dataFrame[\"Q3\"] == \"Romania\") & (dataFrame[\"Q2\"] == \"Woman\")][\"durata_studii\"]\n",
    "medie_Fem = df_women.mean()\n",
    "print(f\"Durata medie a anilor de studii superioare {medie}\")\n",
    "print(f\"Durata medie a anilor de studii Romania {medie_Ro}\")\n",
    "print(f\"Durata medie a anilor de studii a femeilor in romania {medie_Fem}\")"
   ],
   "metadata": {
    "collapsed": false,
    "ExecuteTime": {
     "end_time": "2025-03-09T14:27:41.708076500Z",
     "start_time": "2025-03-09T14:27:41.419142500Z"
    }
   },
   "id": "832c754cbfd719b8"
  },
  {
   "cell_type": "markdown",
   "source": [
    "numarul de respondenti femei din Romania pentru care se detin date complete\n"
   ],
   "metadata": {
    "collapsed": false
   },
   "id": "87403ad7d31346a6"
  },
  {
   "cell_type": "code",
   "execution_count": 3,
   "outputs": [
    {
     "name": "stderr",
     "output_type": "stream",
     "text": [
      "C:\\Users\\emato\\AppData\\Local\\Temp\\ipykernel_8068\\666333119.py:1: DtypeWarning: Columns (0,18,32,49,56,69,88,100,107,113,139,184,195,201,202,253,266,278,283,285,286,287,288,289,290,291,292,301,322,339,347,355,367) have mixed types. Specify dtype option on import or set low_memory=False.\n",
      "  df =  pd.read_csv(\"surveyDataSience.csv\")\n"
     ]
    },
    {
     "name": "stdout",
     "output_type": "stream",
     "text": [
      "Respondenți femei cu toate răspunsurile completate: 4890\n",
      "Respondenți femei care au ales cel puțin o opțiune la multiple choice: 4890\n"
     ]
    }
   ],
   "source": [
    "df =  pd.read_csv(\"surveyDataSience.csv\")\n",
    "\n",
    "# Elimin prima linie care conține întrebările în loc de date\n",
    "df_cleaned = df.iloc[1:].reset_index(drop=True)\n",
    "\n",
    "# Convertim toate coloanele relevante în string pentru a preveni erori de tip\n",
    "df_cleaned = df_cleaned.astype(str)\n",
    "\n",
    "# Identific coloana care conține genul (de obicei este Q2 sau similar)\n",
    "gender_col = \"Q2\"  # Verifică numele exact al coloanei în dataset\n",
    "df_women = df_cleaned[df_cleaned[gender_col] == \"Woman\"]\n",
    "\n",
    "# Identific coloanele multiple choice (cele care conțin '_Part_')\n",
    "multi_choice_cols = [col for col in df_women.columns if '_Part_' in col]\n",
    "\n",
    "# Respondenți femei care au răspuns la toate întrebările (fără valori lipsă)\n",
    "complete_responses_women = df_women.dropna().shape[0]\n",
    "\n",
    "# Respondenți femei care au răspuns la cel puțin o întrebare dintr-un set multiple choice\n",
    "multi_choice_valid_women = df_women[multi_choice_cols].notna().any(axis=1).sum()\n",
    "\n",
    "print(\"Respondenți femei cu toate răspunsurile completate:\", complete_responses_women)\n"
   ],
   "metadata": {
    "collapsed": false,
    "ExecuteTime": {
     "end_time": "2025-03-12T19:37:20.394194700Z",
     "start_time": "2025-03-12T19:37:18.672836600Z"
    }
   },
   "id": "631368e228d09d4e"
  },
  {
   "cell_type": "markdown",
   "source": [
    "numarul de femei din Romania care programeaza in Python, precum si intervalul de varsta cu cele mai multe femei care programeaza in Python? Dar in C++? Comparati rezultatele obtinute pentru cele doua limbaje de programare.\n",
    "\n"
   ],
   "metadata": {
    "collapsed": false
   },
   "id": "324b24a42471dee2"
  },
  {
   "cell_type": "code",
   "execution_count": 15,
   "outputs": [
    {
     "name": "stdout",
     "output_type": "stream",
     "text": [
      "numarul de femei din Romania care programeaza in Python 12\n",
      "numarul de femei din Romania care programeaza in C++ 4\n",
      "Interval Python 18 - 44\n",
      "Interval C++ 18 - 44\n"
     ]
    }
   ],
   "source": [
    "famWomen= dataFrame[(dataFrame[\"Q2\"] == \"Woman\") & (dataFrame[\"Q7_Part_1\"]==\"Python\") \n",
    "& (dataFrame[\"Q3\"] == \"Romania\")].shape[0]\n",
    "famWomenCpp = dataFrame[(dataFrame[\"Q2\"] == \"Woman\") & (dataFrame[\"Q7_Part_5\"]==\"C++\") \n",
    "& (dataFrame[\"Q3\"] == \"Romania\")].shape[0]\n",
    "print(f\"numarul de femei din Romania care programeaza in Python {famWomen}\")\n",
    "print(f\"numarul de femei din Romania care programeaza in C++ {famWomenCpp}\")\n",
    "\n",
    "allWomenAges = dataFrame[(dataFrame[\"Q2\"] == \"Woman\") & (dataFrame[\"Q7_Part_1\"]==\"Python\") \n",
    "& (dataFrame[\"Q3\"] == \"Romania\")][\"Q1\"].unique()\n",
    "print(f\"Interval Python {min(int(age.split('-')[0]) for age in allWomenAges)} - {max(int(age.split('-')[-1]) for age in allWomenAges)}\")\n",
    "\n",
    "\n",
    "allWomenAgesCpp = dataFrame[(dataFrame[\"Q2\"] == \"Woman\") & (dataFrame[\"Q7_Part_5\"]==\"C++\") \n",
    "& (dataFrame[\"Q3\"] == \"Romania\")][\"Q1\"].unique()\n",
    "print(f\"Interval C++ {min(int(age.split('-')[0]) for age in allWomenAges)} - {max(int(age.split('-')[-1]) for age in allWomenAges)}\")"
   ],
   "metadata": {
    "collapsed": false,
    "ExecuteTime": {
     "end_time": "2025-03-12T20:04:03.375172900Z",
     "start_time": "2025-03-12T20:04:03.323292500Z"
    }
   },
   "id": "ca2580838b875bd3"
  },
  {
   "cell_type": "markdown",
   "source": [
    "domeniul de valori posibile si valorile extreme pentru fiecare atribut/proprietate (feature). In cazul proprietatilor nenumerice, cate valori posibile are fiecare astfel de proprietate\n",
    "\n"
   ],
   "metadata": {
    "collapsed": false
   },
   "id": "a11776e379b2c98c"
  },
  {
   "cell_type": "code",
   "execution_count": 5,
   "outputs": [
    {
     "name": "stderr",
     "output_type": "stream",
     "text": [
      "C:\\Users\\emato\\AppData\\Local\\Temp\\ipykernel_8068\\1433913845.py:4: FutureWarning: errors='ignore' is deprecated and will raise in a future version. Use to_numeric without passing `errors` and catch exceptions explicitly instead\n",
      "  df_cleaned[col] = pd.to_numeric(df_cleaned[col], errors='ignore')\n"
     ]
    },
    {
     "name": "stdout",
     "output_type": "stream",
     "text": [
      "Feature: Time from Start to Finish (seconds)\n",
      "  Min: 120\n",
      "  Max: 2488653\n",
      "--------------------------------------------------\n",
      "Feature: Q1\n",
      "  Număr de valori unice: 11\n",
      "  Valori unice: ['50-54' '22-24' '45-49' '25-29' '18-21' '30-34' '40-44' '35-39' '70+'\n",
      " '55-59']\n",
      "--------------------------------------------------\n",
      "Feature: Q2\n",
      "  Număr de valori unice: 5\n",
      "  Valori unice: ['Man' 'Woman' 'Nonbinary' 'Prefer not to say' 'Prefer to self-describe']\n",
      "--------------------------------------------------\n",
      "Feature: Q3\n",
      "  Număr de valori unice: 66\n",
      "  Valori unice: ['India' 'Indonesia' 'Pakistan' 'Mexico' 'Russia' 'Turkey' 'Australia'\n",
      " 'Nigeria' 'Greece' 'Belgium']\n",
      "--------------------------------------------------\n",
      "Feature: Q4\n",
      "  Număr de valori unice: 7\n",
      "  Valori unice: ['Bachelor’s degree' 'Master’s degree' 'Doctoral degree'\n",
      " 'I prefer not to answer'\n",
      " 'Some college/university study without earning a bachelor’s degree'\n",
      " 'No formal education past high school' 'Professional doctorate']\n",
      "--------------------------------------------------\n",
      "Feature: Q5\n",
      "  Număr de valori unice: 15\n",
      "  Valori unice: ['Other' 'Program/Project Manager' 'Software Engineer'\n",
      " 'Research Scientist' 'Currently not employed' 'Student' 'Data Scientist'\n",
      " 'Data Analyst' 'Machine Learning Engineer' 'Business Analyst']\n",
      "--------------------------------------------------\n",
      "Feature: Q6\n",
      "  Număr de valori unice: 7\n",
      "  Valori unice: ['5-10 years' '20+ years' '1-3 years' '< 1 years' '3-5 years'\n",
      " '10-20 years' 'I have never written code']\n",
      "--------------------------------------------------\n",
      "Feature: Q7_OTHER\n",
      "  Număr de valori unice: 1\n",
      "  Valori unice: [nan 'Other']\n",
      "--------------------------------------------------\n",
      "Feature: Q8\n",
      "  Număr de valori unice: 12\n",
      "  Valori unice: ['Python' 'SQL' 'R' 'MATLAB' 'C' 'Julia' nan 'Other' 'C++' 'Javascript']\n",
      "--------------------------------------------------\n",
      "Feature: Q9_OTHER\n",
      "  Număr de valori unice: 1\n",
      "  Valori unice: [nan 'Other']\n",
      "--------------------------------------------------\n",
      "Feature: Q10_OTHER\n",
      "  Număr de valori unice: 1\n",
      "  Valori unice: [nan 'Other']\n",
      "--------------------------------------------------\n",
      "Feature: Q11\n",
      "  Număr de valori unice: 5\n",
      "  Valori unice: ['A laptop'\n",
      " 'A cloud computing platform (AWS, Azure, GCP, hosted notebooks, etc)'\n",
      " 'A personal computer / desktop'\n",
      " 'A deep learning workstation (NVIDIA GTX, LambdaLabs, etc)' nan 'Other']\n",
      "--------------------------------------------------\n",
      "Feature: Q12_OTHER\n",
      "  Număr de valori unice: 1\n",
      "  Valori unice: [nan 'Other']\n",
      "--------------------------------------------------\n",
      "Feature: Q13\n",
      "  Număr de valori unice: 5\n",
      "  Valori unice: ['2-5 times' 'Never' 'More than 25 times' nan 'Once' '6-25 times']\n",
      "--------------------------------------------------\n",
      "Feature: Q14_OTHER\n",
      "  Număr de valori unice: 1\n",
      "  Valori unice: [nan 'Other']\n",
      "--------------------------------------------------\n",
      "Feature: Q15\n",
      "  Număr de valori unice: 9\n",
      "  Valori unice: ['5-10 years' 'Under 1 year' 'I do not use machine learning methods'\n",
      " '10-20 years' '2-3 years' nan '1-2 years' '4-5 years' '3-4 years'\n",
      " '20 or more years']\n",
      "--------------------------------------------------\n",
      "Feature: Q16_OTHER\n",
      "  Număr de valori unice: 1\n",
      "  Valori unice: [nan 'Other']\n",
      "--------------------------------------------------\n",
      "Feature: Q17_OTHER\n",
      "  Număr de valori unice: 1\n",
      "  Valori unice: [nan 'Other']\n",
      "--------------------------------------------------\n",
      "Feature: Q18_OTHER\n",
      "  Număr de valori unice: 1\n",
      "  Valori unice: [nan 'Other']\n",
      "--------------------------------------------------\n",
      "Feature: Q19_OTHER\n",
      "  Număr de valori unice: 1\n",
      "  Valori unice: [nan 'Other']\n",
      "--------------------------------------------------\n",
      "Feature: Q20\n",
      "  Număr de valori unice: 18\n",
      "  Valori unice: ['Manufacturing/Fabrication' 'Academics/Education' nan\n",
      " 'Computers/Technology' 'Other' 'Shipping/Transportation' 'Energy/Mining'\n",
      " 'Insurance/Risk Assessment' 'Non-profit/Service' 'Accounting/Finance']\n",
      "--------------------------------------------------\n",
      "Feature: Q21\n",
      "  Număr de valori unice: 5\n",
      "  Valori unice: ['50-249 employees' '1000-9,999 employees' nan '10,000 or more employees'\n",
      " '0-49 employees' '250-999 employees']\n",
      "--------------------------------------------------\n",
      "Feature: Q22\n",
      "  Număr de valori unice: 7\n",
      "  Valori unice: ['4-Mar' '2-Jan' '0' '9-May' nan '14-Oct' '20+' '15-19']\n",
      "--------------------------------------------------\n",
      "Feature: Q23\n",
      "  Număr de valori unice: 6\n",
      "  Valori unice: ['No (we do not use ML methods)'\n",
      " 'We are exploring ML methods (and may one day put a model into production)'\n",
      " 'I do not know'\n",
      " 'We use ML methods for generating insights (but do not put working models into production)'\n",
      " nan\n",
      " 'We have well established ML methods (i.e., models in production for more than 2 years)'\n",
      " 'We recently started using ML methods (i.e., models in production for less than 2 years)']\n",
      "--------------------------------------------------\n",
      "Feature: Q24_OTHER\n",
      "  Număr de valori unice: 1\n",
      "  Valori unice: [nan 'Other']\n",
      "--------------------------------------------------\n",
      "Feature: Q25\n",
      "  Număr de valori unice: 26\n",
      "  Valori unice: ['25,000-29,999' '60,000-69,999' '$0-999' '30,000-39,999' nan\n",
      " '15,000-19,999' '70,000-79,999' '2,000-2,999' '10,000-14,999'\n",
      " '5,000-7,499']\n",
      "--------------------------------------------------\n",
      "Feature: Q26\n",
      "  Număr de valori unice: 6\n",
      "  Valori unice: ['$100-$999' '$0 ($USD)' '$1000-$9,999' nan '$1-$99'\n",
      " '$100,000 or more ($USD)' '$10,000-$99,999']\n",
      "--------------------------------------------------\n",
      "Feature: Q27_A_OTHER\n",
      "  Număr de valori unice: 1\n",
      "  Valori unice: [nan 'Other']\n",
      "--------------------------------------------------\n",
      "Feature: Q28\n",
      "  Număr de valori unice: 13\n",
      "  Valori unice: [nan ' Google Cloud Platform (GCP) ' ' SAP Cloud ' ' Microsoft Azure '\n",
      " 'They all had a similarly enjoyable developer experience'\n",
      " ' Amazon Web Services (AWS) ' ' Oracle Cloud ' ' Alibaba Cloud '\n",
      " 'None were satisfactory' ' IBM Cloud / Red Hat ']\n",
      "--------------------------------------------------\n",
      "Feature: Q29_A_OTHER\n",
      "  Număr de valori unice: 1\n",
      "  Valori unice: [nan 'Other']\n",
      "--------------------------------------------------\n",
      "Feature: Q30_A_OTHER\n",
      "  Număr de valori unice: 1\n",
      "  Valori unice: [nan 'Other']\n",
      "--------------------------------------------------\n",
      "Feature: Q31_A_OTHER\n",
      "  Număr de valori unice: 1\n",
      "  Valori unice: [nan 'Other']\n",
      "--------------------------------------------------\n",
      "Feature: Q32_A_OTHER\n",
      "  Număr de valori unice: 1\n",
      "  Valori unice: [nan 'Other']\n",
      "--------------------------------------------------\n",
      "Feature: Q33\n",
      "  Număr de valori unice: 20\n",
      "  Valori unice: [nan 'MySQL ' 'IBM Db2 ' 'PostgreSQL ' 'Google Cloud Firestore '\n",
      " 'Oracle Database ' 'Microsoft SQL Server '\n",
      " 'Microsoft Azure SQL Database ' 'Snowflake ' 'MongoDB ']\n",
      "--------------------------------------------------\n",
      "Feature: Q34_A_OTHER\n",
      "  Număr de valori unice: 1\n",
      "  Valori unice: [nan 'Other']\n",
      "--------------------------------------------------\n",
      "Feature: Q35\n",
      "  Număr de valori unice: 16\n",
      "  Valori unice: [nan 'Tableau' 'Microsoft Power BI' 'Google Data Studio'\n",
      " 'SAP Analytics Cloud ' 'Amazon QuickSight' 'Qlik' 'TIBCO Spotfire'\n",
      " 'Sisense ' 'Other']\n",
      "--------------------------------------------------\n",
      "Feature: Q36_A_OTHER\n",
      "  Număr de valori unice: 1\n",
      "  Valori unice: [nan 'Other']\n",
      "--------------------------------------------------\n",
      "Feature: Q37_A_OTHER\n",
      "  Număr de valori unice: 1\n",
      "  Valori unice: [nan 'Other']\n",
      "--------------------------------------------------\n",
      "Feature: Q38_A_OTHER\n",
      "  Număr de valori unice: 1\n",
      "  Valori unice: [nan 'Other']\n",
      "--------------------------------------------------\n",
      "Feature: Q39_OTHER\n",
      "  Număr de valori unice: 1\n",
      "  Valori unice: [nan 'Other']\n",
      "--------------------------------------------------\n",
      "Feature: Q40_OTHER\n",
      "  Număr de valori unice: 1\n",
      "  Valori unice: [nan 'Other']\n",
      "--------------------------------------------------\n",
      "Feature: Q41\n",
      "  Număr de valori unice: 6\n",
      "  Valori unice: ['Local development environments (RStudio, JupyterLab, etc.)'\n",
      " 'Advanced statistical software (SPSS, SAS, etc.)'\n",
      " 'Basic statistical software (Microsoft Excel, Google Sheets, etc.)' nan\n",
      " 'Business intelligence software (Salesforce, Tableau, Spotfire, etc.)'\n",
      " 'Cloud-based data software & APIs (AWS, GCP, Azure, etc.)' 'Other']\n",
      "--------------------------------------------------\n",
      "Feature: Q42_OTHER\n",
      "  Număr de valori unice: 1\n",
      "  Valori unice: [nan 'Other']\n",
      "--------------------------------------------------\n",
      "Feature: Q27_B_OTHER\n",
      "  Număr de valori unice: 1\n",
      "  Valori unice: [nan 'Other']\n",
      "--------------------------------------------------\n",
      "Feature: Q29_B_OTHER\n",
      "  Număr de valori unice: 1\n",
      "  Valori unice: [nan 'Other']\n",
      "--------------------------------------------------\n",
      "Feature: Q30_B_OTHER\n",
      "  Min: nan\n",
      "  Max: nan\n",
      "--------------------------------------------------\n",
      "Feature: Q31_B_OTHER\n",
      "  Număr de valori unice: 1\n",
      "  Valori unice: [nan 'Other']\n",
      "--------------------------------------------------\n",
      "Feature: Q32_B_OTHER\n",
      "  Număr de valori unice: 1\n",
      "  Valori unice: [nan 'Other']\n",
      "--------------------------------------------------\n",
      "Feature: Q34_B_OTHER\n",
      "  Număr de valori unice: 1\n",
      "  Valori unice: [nan 'Other']\n",
      "--------------------------------------------------\n",
      "Feature: Q36_B_OTHER\n",
      "  Număr de valori unice: 1\n",
      "  Valori unice: [nan 'Other']\n",
      "--------------------------------------------------\n",
      "Feature: Q37_B_OTHER\n",
      "  Număr de valori unice: 1\n",
      "  Valori unice: [nan 'Other']\n",
      "--------------------------------------------------\n",
      "Feature: Q38_B_OTHER\n",
      "  Număr de valori unice: 1\n",
      "  Valori unice: [nan 'Other']\n",
      "--------------------------------------------------\n",
      "Feature: Q40\n",
      "  Număr total de opțiuni unice: 10\n",
      "  Opțiuni unice: ['Coursera', 'DataCamp', 'edX', 'Udemy', 'Udacity', 'LinkedIn Learning', 'Fast.ai', 'Kaggle Learn Courses', 'University Courses (resulting in a university degree)', 'Cloud-certification programs (direct from AWS, Azure, GCP, or similar)']\n",
      "--------------------------------------------------\n",
      "Feature: Q18\n",
      "  Număr total de opțiuni unice: 5\n",
      "  Opțiuni unice: ['Object detection methods (YOLOv3, RetinaNet, etc)', 'General purpose image/video tools (PIL, cv2, skimage, etc)', 'Image classification and other general purpose networks (VGG, Inception, ResNet, ResNeXt, NASNet, EfficientNet, etc)', 'Generative Networks (GAN, VAE, etc)', 'Image segmentation methods (U-Net, Mask R-CNN, etc)']\n",
      "--------------------------------------------------\n",
      "Feature: Q42\n",
      "  Număr total de opțiuni unice: 10\n",
      "  Opțiuni unice: ['Course Forums (forums.fast.ai, Coursera forums, etc)', 'Kaggle (notebooks, forums, etc)', 'YouTube (Kaggle YouTube, Cloud AI Adventures, etc)', 'Twitter (data science influencers)', \"Email newsletters (Data Elixir, O'Reilly Data & AI, etc)\", 'Blogs (Towards Data Science, Analytics Vidhya, etc)', 'Slack Communities (ods.ai, kagglenoobs, etc)', 'Podcasts (Chai Time Data Science, O’Reilly Data Show, etc)', 'Reddit (r/machinelearning, etc)', 'Journal Publications (peer-reviewed journals, conference proceedings, etc)']\n",
      "--------------------------------------------------\n",
      "Feature: Q27_B\n",
      "  Număr total de opțiuni unice: 10\n",
      "  Opțiuni unice: [' Amazon Web Services (AWS) ', ' Oracle Cloud ', ' Tencent Cloud ', ' IBM Cloud / Red Hat ', ' SAP Cloud ', ' Alibaba Cloud ', ' Google Cloud Platform (GCP) ', ' VMware Cloud ', ' Salesforce Cloud ', ' Microsoft Azure ']\n",
      "--------------------------------------------------\n",
      "Feature: Q16\n",
      "  Număr total de opțiuni unice: 16\n",
      "  Opțiuni unice: [' Caret ', ' PyTorch ', ' PyTorch Lightning ', ' Tidymodels ', ' Xgboost ', ' Keras ', '  Scikit-learn ', ' Huggingface ', ' MXNet ', ' LightGBM ']\n",
      "--------------------------------------------------\n",
      "Feature: Q9\n",
      "  Număr total de opțiuni unice: 11\n",
      "  Opțiuni unice: ['  Sublime Text  ', '  Vim / Emacs  ', ' PyCharm ', ' MATLAB ', ' Visual Studio ', ' RStudio ', 'Jupyter (JupyterLab, Jupyter Notebooks, etc) ', ' Visual Studio Code (VSCode) ', '  Spyder  ', ' Jupyter Notebook']\n",
      "--------------------------------------------------\n",
      "Feature: Q7\n",
      "  Număr total de opțiuni unice: 11\n",
      "  Opțiuni unice: ['Julia', 'R', 'Javascript', 'Python', 'SQL', 'Bash', 'Swift', 'C++', 'MATLAB', 'C']\n",
      "--------------------------------------------------\n",
      "Feature: Q30_B\n",
      "  Număr total de opțiuni unice: 0\n",
      "  Opțiuni unice: []\n",
      "--------------------------------------------------\n",
      "Feature: Q19\n",
      "  Număr total de opțiuni unice: 4\n",
      "  Opțiuni unice: ['Transformer language models (GPT-3, BERT, XLnet, etc)', 'Encoder-decorder models (seq2seq, vanilla transformers)', 'Word embeddings/vectors (GLoVe, fastText, word2vec)', 'Contextualized embeddings (ELMo, CoVe)']\n",
      "--------------------------------------------------\n",
      "Feature: Q32_A\n",
      "  Număr total de opțiuni unice: 19\n",
      "  Opțiuni unice: ['Google Cloud Firestore ', 'Google Cloud BigQuery ', 'Google Cloud SQL ', 'MongoDB ', 'IBM Db2 ', 'Amazon Redshift ', 'Amazon Aurora ', 'MySQL ', 'Amazon DynamoDB ', 'Oracle Database ']\n",
      "--------------------------------------------------\n",
      "Feature: Q17\n",
      "  Număr total de opțiuni unice: 10\n",
      "  Opțiuni unice: ['Linear or Logistic Regression', 'Bayesian Approaches', 'Generative Adversarial Networks', 'Gradient Boosting Machines (xgboost, lightgbm, etc)', 'Evolutionary Approaches', 'Decision Trees or Random Forests', 'Convolutional Neural Networks', 'Transformer Networks (BERT, gpt-3, etc)', 'Dense Neural Networks (MLPs, etc)', 'Recurrent Neural Networks']\n",
      "--------------------------------------------------\n",
      "Feature: Q31_A\n",
      "  Număr total de opțiuni unice: 9\n",
      "  Opțiuni unice: [' Amazon SageMaker ', ' DataRobot', ' Databricks', ' Google Cloud Vertex AI', ' Alteryx', 'No / None', ' Azure Machine Learning Studio ', ' Rapidminer', ' Dataiku']\n",
      "--------------------------------------------------\n",
      "Feature: Q34_B\n",
      "  Număr total de opțiuni unice: 15\n",
      "  Opțiuni unice: ['Amazon QuickSight', 'SAP Analytics Cloud ', 'Qlik', 'Sisense ', 'Tableau', 'Microsoft Power BI', 'Alteryx ', 'Tableau CRM', 'Domo', 'TIBCO Spotfire']\n",
      "--------------------------------------------------\n",
      "Feature: Q24\n",
      "  Număr total de opțiuni unice: 7\n",
      "  Opțiuni unice: ['Experimentation and iteration to improve existing ML models', 'Build and/or run a machine learning service that operationally improves my product or workflows', 'Analyze and understand data to influence product or business decisions', 'Do research that advances the state of the art of machine learning', 'Build prototypes to explore applying machine learning to new areas', 'None of these activities are an important part of my role at work', 'Build and/or run the data infrastructure that my business uses for storing, analyzing, and operationalizing data']\n",
      "--------------------------------------------------\n",
      "Feature: Q30_A\n",
      "  Număr total de opțiuni unice: 7\n",
      "  Opțiuni unice: ['Google Cloud Storage (GCS)   ', 'No / None', ' Google Cloud Filestore ', 'Microsoft Azure Disk Storage ', ' Amazon Simple Storage Service (S3)  ', 'Microsoft Azure Data Lake Storage ', ' Amazon Elastic File System (EFS)  ']\n",
      "--------------------------------------------------\n",
      "Feature: Q14\n",
      "  Număr total de opțiuni unice: 10\n",
      "  Opțiuni unice: [' Leaflet / Folium ', ' D3 js ', ' Shiny ', ' Matplotlib ', ' Seaborn ', ' Ggplot / ggplot2 ', ' Altair ', ' Geoplotlib ', ' Bokeh ', ' Plotly / Plotly Express ']\n",
      "--------------------------------------------------\n",
      "Feature: Q34_A\n",
      "  Număr total de opțiuni unice: 15\n",
      "  Opțiuni unice: ['Amazon QuickSight', 'SAP Analytics Cloud ', 'Qlik', 'Sisense ', 'Tableau', 'Microsoft Power BI', 'Alteryx ', 'Tableau CRM', 'Domo', 'TIBCO Spotfire']\n",
      "--------------------------------------------------\n",
      "Feature: Q37_B\n",
      "  Număr total de opțiuni unice: 6\n",
      "  Opțiuni unice: [' Google Cloud AutoML ', '  Amazon Sagemaker Autopilot ', ' H2O Driverless AI  ', '  Azure Automated Machine Learning ', ' DataRobot AutoML ', ' Databricks AutoML ']\n",
      "--------------------------------------------------\n",
      "Feature: Q36_A\n",
      "  Număr total de opțiuni unice: 7\n",
      "  Opțiuni unice: ['Automated feature engineering/selection (e.g. tpot, boruta_py)', 'Automated model architecture searches (e.g. darts, enas)', 'No / None', 'Automated model selection (e.g. auto-sklearn, xcessiv)', 'Automation of full ML pipelines (e.g. Google AutoML, H2O Driverless AI)', 'Automated hyperparameter tuning (e.g. hyperopt, ray.tune, Vizier)', 'Automated data augmentation (e.g. imgaug, albumentations)']\n",
      "--------------------------------------------------\n",
      "Feature: Q31_B\n",
      "  Număr total de opțiuni unice: 8\n",
      "  Opțiuni unice: [' Amazon SageMaker ', ' DataRobot', ' Databricks', ' Google Cloud Vertex AI', ' Alteryx', ' Azure Machine Learning Studio ', ' Rapidminer', ' Dataiku']\n",
      "--------------------------------------------------\n",
      "Feature: Q38_B\n",
      "  Număr total de opțiuni unice: 10\n",
      "  Opțiuni unice: [' Polyaxon ', ' Neptune.ai ', ' Guild.ai ', ' Weights & Biases ', ' TensorBoard ', ' Sacred + Omniboard ', ' Comet.ml ', ' Domino Model Monitor ', ' MLflow ', ' ClearML ']\n",
      "--------------------------------------------------\n",
      "Feature: Q39\n",
      "  Număr total de opțiuni unice: 9\n",
      "  Opțiuni unice: [' Shiny ', ' Personal blog ', ' Colab ', ' NBViewer ', ' Streamlit ', ' Kaggle ', ' Plotly Dash ', 'I do not share my work publicly', ' GitHub ']\n",
      "--------------------------------------------------\n",
      "Feature: Q27_A\n",
      "  Număr total de opțiuni unice: 10\n",
      "  Opțiuni unice: [' Amazon Web Services (AWS) ', ' Oracle Cloud ', ' Tencent Cloud ', ' IBM Cloud / Red Hat ', ' SAP Cloud ', ' Alibaba Cloud ', ' Google Cloud Platform (GCP) ', ' VMware Cloud ', ' Salesforce Cloud ', ' Microsoft Azure ']\n",
      "--------------------------------------------------\n",
      "Feature: Q10\n",
      "  Număr total de opțiuni unice: 15\n",
      "  Opțiuni unice: [' Code Ocean ', 'Colab Notebooks', ' Amazon EMR Notebooks ', 'Google Cloud Notebooks (AI Platform / Vertex AI) ', ' Zeppelin / Zepl Notebooks ', ' Kaggle Notebooks', ' Paperspace / Gradient ', ' Deepnote Notebooks ', ' Databricks Collaborative Notebooks ', ' Amazon Sagemaker Studio Notebooks ']\n",
      "--------------------------------------------------\n",
      "Feature: Q36_B\n",
      "  Număr total de opțiuni unice: 6\n",
      "  Opțiuni unice: ['Automated feature engineering/selection (e.g. tpot, boruta_py)', 'Automation of full ML pipelines (e.g. Google Cloud AutoML, H2O Driverless AI)', 'Automated model architecture searches (e.g. darts, enas)', 'Automated model selection (e.g. auto-sklearn, xcessiv)', 'Automated hyperparameter tuning (e.g. hyperopt, ray.tune, Vizier)', 'Automated data augmentation (e.g. imgaug, albumentations)']\n",
      "--------------------------------------------------\n",
      "Feature: Q12\n",
      "  Număr total de opțiuni unice: 4\n",
      "  Opțiuni unice: [' AWS Trainium Chips ', ' AWS Inferentia Chips ', ' NVIDIA GPUs ', ' Google Cloud TPUs ']\n",
      "--------------------------------------------------\n",
      "Feature: Q32_B\n",
      "  Număr total de opțiuni unice: 19\n",
      "  Opțiuni unice: ['Google Cloud Firestore ', 'Google Cloud BigQuery ', 'Google Cloud SQL ', 'MongoDB ', 'IBM Db2 ', 'Amazon Redshift ', 'Amazon Aurora ', 'MySQL ', 'Amazon DynamoDB ', 'Oracle Database ']\n",
      "--------------------------------------------------\n",
      "Feature: Q29_B\n",
      "  Număr total de opțiuni unice: 3\n",
      "  Opțiuni unice: [' Amazon Elastic Compute Cloud (EC2) ', ' Google Cloud Compute Engine ', ' Microsoft Azure Virtual Machines ']\n",
      "--------------------------------------------------\n",
      "Feature: Q29_A\n",
      "  Număr total de opțiuni unice: 4\n",
      "  Opțiuni unice: [' Amazon Elastic Compute Cloud (EC2) ', ' Google Cloud Compute Engine ', ' Microsoft Azure Virtual Machines ', 'No / None']\n",
      "--------------------------------------------------\n",
      "Feature: Q38_A\n",
      "  Număr total de opțiuni unice: 11\n",
      "  Opțiuni unice: [' Polyaxon ', ' Neptune.ai ', ' Guild.ai ', ' Weights & Biases ', ' TensorBoard ', ' Sacred + Omniboard ', ' Comet.ml ', ' Domino Model Monitor ', 'No / None', ' MLflow ']\n",
      "--------------------------------------------------\n",
      "Feature: Q37_A\n",
      "  Număr total de opțiuni unice: 7\n",
      "  Opțiuni unice: [' Google Cloud AutoML ', '  Amazon Sagemaker Autopilot ', ' H2O Driverless AI  ', '  Azure Automated Machine Learning ', ' DataRobot AutoML ', 'No / None', ' Databricks AutoML ']\n",
      "--------------------------------------------------\n"
     ]
    }
   ],
   "source": [
    "df_cleaned = df.iloc[1:].reset_index(drop=True)\n",
    "\n",
    "for col in df_cleaned.columns:\n",
    "    df_cleaned[col] = pd.to_numeric(df_cleaned[col], errors='ignore')\n",
    "\n",
    "feature_info = {}\n",
    "\n",
    "multi_choice_groups = set()\n",
    "\n",
    "for col in df_cleaned.columns:\n",
    "    if '_Part_' in col: \n",
    "        base_col = col.split('_Part_')[0]\n",
    "        multi_choice_groups.add(base_col)\n",
    "    elif df_cleaned[col].dtype in ['int64', 'float64']:  \n",
    "        feature_info[col] = {\n",
    "            \"Min\": df_cleaned[col].min(),\n",
    "            \"Max\": df_cleaned[col].max()\n",
    "        }\n",
    "    else:  \n",
    "        feature_info[col] = {\n",
    "            \"Număr de valori unice\": df_cleaned[col].nunique(),\n",
    "            \"Valori unice\": df_cleaned[col].unique()[:10]  \n",
    "        }\n",
    "\n",
    "\n",
    "for base_col in multi_choice_groups:\n",
    "    related_cols = [col for col in df_cleaned.columns if col.startswith(base_col + '_Part_')]\n",
    "    \n",
    "    unique_values = set()\n",
    "    for col in related_cols:\n",
    "        unique_values.update(df_cleaned[col].dropna().unique())\n",
    "    \n",
    "    feature_info[base_col] = {\n",
    "        \"Număr total de opțiuni unice\": len(unique_values),\n",
    "        \"Opțiuni unice\": list(unique_values)[:10] \n",
    "    }\n",
    "\n",
    "\n",
    "for feature, info in feature_info.items():\n",
    "    print(f\"Feature: {feature}\")\n",
    "    for key, value in info.items():\n",
    "        print(f\"  {key}: {value}\")\n",
    "    print(\"-\" * 50)"
   ],
   "metadata": {
    "collapsed": false,
    "ExecuteTime": {
     "end_time": "2025-03-12T19:43:44.350517100Z",
     "start_time": "2025-03-12T19:43:43.867095100Z"
    }
   },
   "id": "31df2701b4ff6920"
  },
  {
   "cell_type": "markdown",
   "source": [
    "transformati informatiile despre vechimea in programare in numar de ani (folositi in locul intervalului, mijlocul acestuia) si apoi calculati momentele de ordin 1 si 2 pentru aceasta variabila (minim, maxim, media, deviatia standard, mediana). Ce se poate spune despre aceasta variabila?\n"
   ],
   "metadata": {
    "collapsed": false
   },
   "id": "1ca897d62453f9f"
  },
  {
   "cell_type": "markdown",
   "source": [],
   "metadata": {
    "collapsed": false
   },
   "id": "9ce81ff4931f19c5"
  },
  {
   "cell_type": "code",
   "execution_count": 20,
   "outputs": [
    {
     "name": "stdout",
     "output_type": "stream",
     "text": [
      "Minim: 4.0 ani\n",
      "Maxim: 15.0 ani\n",
      "Media: 7.72 ani\n",
      "Mediana: 7.5 ani\n",
      "Deviatia standard: 4.28 ani\n",
      "Variatia experienței este mare, indicand diferente semnificative intre respondenti.\n"
     ]
    }
   ],
   "source": [
    "experience_map = {\n",
    "    'Less than a year': 0.5,\n",
    "    '1-2 years': 1.5,\n",
    "    '3-5 years': 4,\n",
    "    '5-10 years': 7.5,\n",
    "    '10-20 years': 15,\n",
    "    '20 or more years': 25\n",
    "}\n",
    "df['YearsExperience'] = df['Q6'].map(experience_map)\n",
    "df_experience = df.dropna(subset=['YearsExperience'])\n",
    "\n",
    "min_years = df_experience['YearsExperience'].min()\n",
    "max_years = df_experience['YearsExperience'].max()\n",
    "mean_years = df_experience['YearsExperience'].mean()\n",
    "median_years = df_experience['YearsExperience'].median()\n",
    "std_years = df_experience['YearsExperience'].std()\n",
    "\n",
    "print(f\"Minim: {min_years} ani\")\n",
    "print(f\"Maxim: {max_years} ani\")\n",
    "print(f\"Media: {mean_years:.2f} ani\")\n",
    "print(f\"Mediana: {median_years} ani\")\n",
    "print(f\"Deviatia standard: {std_years:.2f} ani\")\n",
    "\n",
    "if std_years > (max_years - min_years) / 4:\n",
    "    print(\"Variatia experienței este mare, indicand diferente semnificative intre respondenti.\")\n",
    "else:\n",
    "    print(\"Distributia experientei este relativ omogena, fara variatii extreme.\")"
   ],
   "metadata": {
    "collapsed": false,
    "ExecuteTime": {
     "end_time": "2025-03-12T20:14:17.563247800Z",
     "start_time": "2025-03-12T20:14:17.521897100Z"
    }
   },
   "id": "b156e5757d0b8a5d"
  },
  {
   "cell_type": "markdown",
   "source": [
    "1.b. Sa se vizualizeze:\n",
    "\n",
    "distributia respondentilor care programeaza in Python pe categorii de varsta"
   ],
   "metadata": {
    "collapsed": false
   },
   "id": "177494dfa127a285"
  },
  {
   "cell_type": "markdown",
   "source": [],
   "metadata": {
    "collapsed": false
   },
   "id": "b887614872e6b062"
  },
  {
   "cell_type": "code",
   "execution_count": 12,
   "outputs": [
    {
     "data": {
      "text/plain": "<Figure size 1000x500 with 1 Axes>",
      "image/png": "[encoded data removed]"
     },
     "metadata": {},
     "output_type": "display_data"
    }
   ],
   "source": [
    "import matplotlib.pyplot as plt\n",
    "\n",
    "programming_languages = [c for c in df.columns if \"Q7_Part\" in c]\n",
    "df_python = df[(df[programming_languages].isin(['Python']).any(axis=1))]\n",
    "age_counts = df_python[\"Q1\"].value_counts().sort_index()\n",
    "\n",
    "plt.figure(figsize=(10, 5))\n",
    "plt.bar(age_counts.index, age_counts.values, color='yellow', edgecolor='black', alpha=0.7)\n",
    "\n",
    "plt.xlabel(\"Categorie de varsta\")\n",
    "plt.ylabel(\"Numar de respondenti\")\n",
    "plt.title(\"Distributia celor care programeaza in Python pe categorii de varsta\")\n",
    "plt.xticks(rotation=45)\n",
    "\n",
    "plt.show()"
   ],
   "metadata": {
    "collapsed": false,
    "ExecuteTime": {
     "end_time": "2025-03-12T20:02:18.743990700Z",
     "start_time": "2025-03-12T20:02:18.605900600Z"
    }
   },
   "id": "837be1e7de86766d"
  },
  {
   "cell_type": "markdown",
   "source": [],
   "metadata": {
    "collapsed": false
   },
   "id": "82005a9bc692ac83"
  },
  {
   "cell_type": "markdown",
   "source": [
    "distributia respondentilor din Romania care programeaza in Python pe categorii de varsta"
   ],
   "metadata": {
    "collapsed": false
   },
   "id": "f7d5041ab9f01126"
  },
  {
   "cell_type": "code",
   "execution_count": 13,
   "outputs": [
    {
     "data": {
      "text/plain": "<Figure size 1000x500 with 1 Axes>",
      "image/png": "[encoded data removed]"
     },
     "metadata": {},
     "output_type": "display_data"
    }
   ],
   "source": [
    "\n",
    "programming_languages = [c for c in df.columns if \"Q7_Part\" in c]\n",
    "df_python = df[(df[programming_languages].isin(['Python']).any(axis=1))\n",
    "& (df[\"Q3\"] == \"Romania\")]\n",
    "age_counts = df_python[\"Q1\"].value_counts().sort_index()\n",
    "\n",
    "plt.figure(figsize=(10, 5))\n",
    "plt.bar(age_counts.index, age_counts.values, color='magenta', edgecolor='black', alpha=0.7)\n",
    "\n",
    "plt.xlabel(\"Categorie de varsta\")\n",
    "plt.ylabel(\"Numar de respondenti\")\n",
    "plt.title(\"Distributia celor care programeaza in Python pe categorii de varsta Din Romania\")\n",
    "plt.xticks(rotation=45)\n",
    "\n",
    "plt.show()"
   ],
   "metadata": {
    "collapsed": false,
    "ExecuteTime": {
     "end_time": "2025-03-12T20:02:32.505739Z",
     "start_time": "2025-03-12T20:02:32.410675300Z"
    }
   },
   "id": "90c7f287404f7a70"
  },
  {
   "cell_type": "markdown",
   "source": [
    "distributia respondentilor femei din Romania care programeaza in Python pe categorii de varsta\n"
   ],
   "metadata": {
    "collapsed": false
   },
   "id": "c132868c3dd7904"
  },
  {
   "cell_type": "code",
   "execution_count": 18,
   "outputs": [
    {
     "data": {
      "text/plain": "<Figure size 1000x500 with 1 Axes>",
      "image/png": "[encoded data removed]"
     },
     "metadata": {},
     "output_type": "display_data"
    }
   ],
   "source": [
    "programming_languages = [c for c in df.columns if \"Q7_Part\" in c]\n",
    "famWomenAll= dataFrame[(dataFrame[\"Q2\"] == \"Woman\") & (dataFrame[\"Q7_Part_1\"]==\"Python\") \n",
    "& (dataFrame[\"Q3\"] == \"Romania\")]\n",
    "age_counts = famWomenAll[\"Q1\"].value_counts().sort_index()\n",
    "\n",
    "plt.figure(figsize=(10, 5))\n",
    "plt.bar(age_counts.index, age_counts.values, color='pink', edgecolor='black', alpha=0.7)\n",
    "\n",
    "plt.xlabel(\"Categorie de varsta\")\n",
    "plt.ylabel(\"Numar de respondenti\")\n",
    "plt.title(\"Distributia celor care programeaza in Python pe categorii de varsta Din Romania\")\n",
    "plt.xticks(rotation=45)\n",
    "\n",
    "plt.show()"
   ],
   "metadata": {
    "collapsed": false,
    "ExecuteTime": {
     "end_time": "2025-03-12T20:05:02.035316400Z",
     "start_time": "2025-03-12T20:05:01.970215200Z"
    }
   },
   "id": "eb6f1896f58828aa"
  },
  {
   "cell_type": "markdown",
   "source": [
    "respondentii care pot fi considerati \"outlieri\" din punct de vedere al vechimii in programare (puteti folositi un boxplot pentru a identifica aceste valori)\n",
    " "
   ],
   "metadata": {
    "collapsed": false
   },
   "id": "9c441a84c403e83a"
  },
  {
   "cell_type": "code",
   "execution_count": 21,
   "outputs": [
    {
     "data": {
      "text/plain": "<Axes: >"
     },
     "execution_count": 21,
     "metadata": {},
     "output_type": "execute_result"
    },
    {
     "data": {
      "text/plain": "<Figure size 640x480 with 1 Axes>",
      "image/png": "[encoded data removed]"
     },
     "metadata": {},
     "output_type": "display_data"
    }
   ],
   "source": [
    "df['Q1'].value_counts()\n",
    "df_experience.plot(kind = 'box')"
   ],
   "metadata": {
    "collapsed": false,
    "ExecuteTime": {
     "end_time": "2025-03-12T20:14:21.981620200Z",
     "start_time": "2025-03-12T20:14:21.846872600Z"
    }
   },
   "id": "e378de023ff9dc7b"
  }
 ],
 "metadata": {
  "kernelspec": {
   "display_name": "Python 3",
   "language": "python",
   "name": "python3"
  },
  "language_info": {
   "codemirror_mode": {
    "name": "ipython",
    "version": 2
   },
   "file_extension": ".py",
   "mimetype": "text/x-python",
   "name": "python",
   "nbconvert_exporter": "python",
   "pygments_lexer": "ipython2",
   "version": "2.7.6"
  }
 },
 "nbformat": 4,
 "nbformat_minor": 5
}
