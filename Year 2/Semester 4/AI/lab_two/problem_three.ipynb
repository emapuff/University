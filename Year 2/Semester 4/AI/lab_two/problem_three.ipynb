{
 "cells": [
  {
   "cell_type": "markdown",
   "source": [
    "numarul de propozitii din text;"
   ],
   "metadata": {
    "collapsed": false
   },
   "id": "35ad7dd91919e645"
  },
  {
   "cell_type": "code",
   "execution_count": 5,
   "id": "initial_id",
   "metadata": {
    "collapsed": true,
    "ExecuteTime": {
     "end_time": "2025-03-12T21:58:00.668556200Z",
     "start_time": "2025-03-12T21:58:00.663625600Z"
    }
   },
   "outputs": [
    {
     "name": "stdout",
     "output_type": "stream",
     "text": [
      "10\n"
     ]
    }
   ],
   "source": [
    "from nltk import sent_tokenize\n",
    "import re\n",
    "from collections import Counter\n",
    "from nltk.corpus import wordnet\n",
    "\n",
    "with open(\"texts.txt\", 'r', encoding='utf-8') as f: text = f.read()\n",
    "    \n",
    "sentences = re.split(r'[.!?]', text)\n",
    "sentences = [p.strip() for p in sentences if p.strip()]\n",
    "numar_propozitii = len(sentences)\n",
    "print (numar_propozitii)\n"
   ]
  },
  {
   "cell_type": "markdown",
   "source": [
    "numarul de cuvinte din text"
   ],
   "metadata": {
    "collapsed": false
   },
   "id": "b61f99a9a2953a87"
  },
  {
   "cell_type": "code",
   "execution_count": 6,
   "outputs": [
    {
     "name": "stdout",
     "output_type": "stream",
     "text": [
      "160\n"
     ]
    }
   ],
   "source": [
    "words = re.findall(r'\\b\\w+\\b', text)\n",
    "print(len(words))"
   ],
   "metadata": {
    "collapsed": false,
    "ExecuteTime": {
     "end_time": "2025-03-12T22:01:47.431169900Z",
     "start_time": "2025-03-12T22:01:47.423370200Z"
    }
   },
   "id": "ccfc86f50948e22"
  },
  {
   "cell_type": "markdown",
   "source": [
    "numarul de cuvinte diferite din text"
   ],
   "metadata": {
    "collapsed": false
   },
   "id": "e97324bf1564ba4d"
  },
  {
   "cell_type": "code",
   "execution_count": 7,
   "outputs": [
    {
     "name": "stdout",
     "output_type": "stream",
     "text": [
      "97\n"
     ]
    }
   ],
   "source": [
    "different = set(words)\n",
    "print(len(different))"
   ],
   "metadata": {
    "collapsed": false,
    "ExecuteTime": {
     "end_time": "2025-03-12T22:03:25.951538300Z",
     "start_time": "2025-03-12T22:03:25.940453500Z"
    }
   },
   "id": "c9a8e4dfee2376e5"
  },
  {
   "cell_type": "markdown",
   "source": [
    "cel mai scurt si cel mai lung cuvant (cuvinte)\n"
   ],
   "metadata": {
    "collapsed": false
   },
   "id": "80346ecee26cb74c"
  },
  {
   "cell_type": "code",
   "execution_count": 13,
   "outputs": [
    {
     "name": "stdout",
     "output_type": "stream",
     "text": [
      "Cuvantul cel mai lung: Confiiiiiiiiiiiiiiiiiiiiiiiiiiiirm\n",
      "Cuvantul cel mai scurt:  o\n"
     ]
    }
   ],
   "source": [
    "print(\"Cuvantul cel mai lung:\", max(words, key=len))\n",
    "print(\"Cuvantul cel mai scurt: \", min(words, key=len))"
   ],
   "metadata": {
    "collapsed": false,
    "ExecuteTime": {
     "end_time": "2025-03-12T22:06:59.538339700Z",
     "start_time": "2025-03-12T22:06:59.530521100Z"
    }
   },
   "id": "dce513e834311c11"
  },
  {
   "cell_type": "markdown",
   "source": [],
   "metadata": {
    "collapsed": false
   },
   "id": "2e5167df00c7560"
  },
  {
   "cell_type": "markdown",
   "source": [
    "textul fara diacritice"
   ],
   "metadata": {
    "collapsed": false
   },
   "id": "8185f121f9715a7d"
  },
  {
   "cell_type": "code",
   "execution_count": 16,
   "outputs": [
    {
     "name": "stdout",
     "output_type": "stream",
     "text": [
      "Mesaj de informare: \n",
      "Cursul si laboratoarele de Inteligenta Artificiala vor fi o \n",
      "provocare pentru toti. Suntem convinsi ca veti realiza proiecte \n",
      "foarte interesante. Va incurajam sa adresati intrebari atunci \n",
      "cand ceva nu e clar, atat in mod live, cat si folosind platforma \n",
      "Teams, canalul ”general”. \n",
      "Daca ati citit pana aici, va rugam sa lasati un mesaj pe canalul \n",
      "general cu textul ”Confiiiiiiiiiiiiiiiiiiiiiiiiiiiirm ca am citit \n",
      "textul pentru problema 3 din lab2”. \n",
      "--\n",
      "Mesaj de informare generat de ChatGPT:\n",
      "Stimati cursanti,\n",
      "Suntem incantati sa va avem in echipa noastra pentru Cursul si \n",
      "laboratoarele de Inteligenta Artificiala. Aceasta experienta va \n",
      "fi o adevarata provocare, dar suntem convinsi ca veti realiza \n",
      "proiecte extrem de interesante.\n",
      "Va incurajam sa fiti activi si sa adresati intrebari atunci cand \n",
      "ceva nu este clar. Fie ca este vorba de o discutie in timp real \n",
      "sau prin intermediul platformei Teams, canalul ”general”, suntem \n",
      "aici sa va sprijinim.\n",
      "Succes si sa inceapa aventura AI!\n",
      "Cu consideratie, Echipa de Inteligenta Artificiala\n"
     ]
    }
   ],
   "source": [
    "replace ={\n",
    "    'ă':'a', \n",
    "    'â':'a',\n",
    "    'î':'i',\n",
    "    'ș':'s',\n",
    "    'ț':'t',\n",
    "    'Ă': 'A', \n",
    "    'Â': 'A', \n",
    "    'Î': 'I', \n",
    "    'Ș': 'S', \n",
    "    'Ț': 'T'\n",
    "}\n",
    "\n",
    "\n",
    "for replace, i in replace.items():\n",
    "    text = text.replace(replace, i)\n",
    "    \n",
    "print(text)"
   ],
   "metadata": {
    "collapsed": false,
    "ExecuteTime": {
     "end_time": "2025-03-12T22:12:25.692642500Z",
     "start_time": "2025-03-12T22:12:25.683699800Z"
    }
   },
   "id": "df7724494dec6fe"
  },
  {
   "cell_type": "markdown",
   "source": [
    "sinonimele celui mai lung cuvant din text"
   ],
   "metadata": {
    "collapsed": false
   },
   "id": "497fce499294258e"
  },
  {
   "cell_type": "code",
   "execution_count": 19,
   "outputs": [
    {
     "name": "stderr",
     "output_type": "stream",
     "text": [
      "[nltk_data] Downloading package wordnet to\n",
      "[nltk_data]     C:\\Users\\emato\\AppData\\Roaming\\nltk_data...\n"
     ]
    },
    {
     "name": "stdout",
     "output_type": "stream",
     "text": [
      "Synonyms for 'laboratoarele': set()\n"
     ]
    }
   ],
   "source": [
    "import nltk\n",
    "\n",
    "nltk.download('wordnet')\n",
    "from nltk.corpus import wordnet as wn\n",
    "\n",
    "corrected_text = re.sub(r'(.)\\1+', r'\\1', text)\n",
    "cleaned_words = re.findall(r'\\b\\w+\\b', corrected_text)\n",
    "longest_clean_word = max(cleaned_words,key=len)\n",
    "\n",
    "synonyms = set()\n",
    "for syn in wn.synsets(longest_clean_word):\n",
    "    for lemma in syn.lemmas():\n",
    "      synonyms.add(lemma.name())\n",
    "    \n",
    "print(f\"Synonyms for '{longest_clean_word}': {synonyms}\")"
   ],
   "metadata": {
    "collapsed": false,
    "ExecuteTime": {
     "end_time": "2025-03-13T15:14:19.827587100Z",
     "start_time": "2025-03-13T15:14:14.287003600Z"
    }
   },
   "id": "efcbc9615e1074a9"
  }
 ],
 "metadata": {
  "kernelspec": {
   "display_name": "Python 3",
   "language": "python",
   "name": "python3"
  },
  "language_info": {
   "codemirror_mode": {
    "name": "ipython",
    "version": 2
   },
   "file_extension": ".py",
   "mimetype": "text/x-python",
   "name": "python",
   "nbconvert_exporter": "python",
   "pygments_lexer": "ipython2",
   "version": "2.7.6"
  }
 },
 "nbformat": 4,
 "nbformat_minor": 5
}
