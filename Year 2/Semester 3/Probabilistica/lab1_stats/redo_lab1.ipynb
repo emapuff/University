{
 "cells": [
  {
   "cell_type": "code",
   "execution_count": 5,
   "id": "initial_id",
   "metadata": {
    "collapsed": true,
    "ExecuteTime": {
     "end_time": "2025-01-16T14:08:28.051623800Z",
     "start_time": "2025-01-16T14:08:28.044580800Z"
    }
   },
   "outputs": [
    {
     "name": "stdout",
     "output_type": "stream",
     "text": [
      "24\n",
      "24\n",
      "[('o', 'd', 'w', 'r')]\n"
     ]
    }
   ],
   "source": [
    "import random\n",
    "from math import factorial \n",
    "from random import sample\n",
    "from itertools import permutations, combinations\n",
    "\n",
    "#lista cu toate permutarile cuvantului word \n",
    "list(permutations(\"word\"))\n",
    "#numarul total de permutari \n",
    "print(len(list(permutations(\"word\"))))\n",
    "print(factorial(len(\"word\")))\n",
    "#permutare aleatorie \n",
    "print(random.sample(list(permutations(\"word\")),1))"
   ]
  },
  {
   "cell_type": "code",
   "execution_count": 16,
   "outputs": [
    {
     "name": "stdout",
     "output_type": "stream",
     "text": [
      "[('w', 'o'), ('w', 'r'), ('w', 'd'), ('o', 'w'), ('o', 'r'), ('o', 'd'), ('r', 'w'), ('r', 'o'), ('r', 'd'), ('d', 'w'), ('d', 'o'), ('d', 'r')]\n",
      "12.0\n",
      "[('d', 'o')]\n"
     ]
    }
   ],
   "source": [
    "#functie de aranjamente \n",
    "from itertools import combinations\n",
    "from math import perm,comb\n",
    "def aranjamente (word, number, numar_total=False, aleator=False):\n",
    "    if numar_total is False and aleator is False:\n",
    "        return list(permutations(word, number))\n",
    "    if numar_total is True: \n",
    "        print(factorial(len(word))/factorial(len(word)-number))\n",
    "    if aleator is True: \n",
    "        print( sample(list(permutations(word, number)), 1))\n",
    "        \n",
    "print(aranjamente('word',2))\n",
    "aranjamente('word',2,numar_total=True)\n",
    "aranjamente('word',2,aleator=True)"
   ],
   "metadata": {
    "collapsed": false,
    "ExecuteTime": {
     "end_time": "2025-01-16T14:36:52.835393800Z",
     "start_time": "2025-01-16T14:36:52.823606200Z"
    }
   },
   "id": "4e24a9847ae10731"
  },
  {
   "cell_type": "code",
   "execution_count": 20,
   "outputs": [
    {
     "name": "stdout",
     "output_type": "stream",
     "text": [
      "[('w', 'o'), ('w', 'r'), ('w', 'd'), ('o', 'r'), ('o', 'd'), ('r', 'd')]\n",
      "6\n",
      "[('w', 'r')]\n"
     ]
    }
   ],
   "source": [
    "#functie de combinari \n",
    "def combinari(word, number,numar_total=False, aleator=False):\n",
    "    if numar_total is False and aleator is False:\n",
    "        print(list(combinations(word, number)))\n",
    "    if numar_total is True: print(comb(len(word),number))\n",
    "    if aleator is True: print(sample(list(combinations(word, number)),1))\n",
    "    \n",
    "combinari('word',2)\n",
    "combinari('word',2,numar_total=True)\n",
    "combinari('word',2,aleator=True)"
   ],
   "metadata": {
    "collapsed": false,
    "ExecuteTime": {
     "end_time": "2025-01-16T14:43:58.536974800Z",
     "start_time": "2025-01-16T14:43:58.530367400Z"
    }
   },
   "id": "9d483a476c794140"
  },
  {
   "cell_type": "code",
   "execution_count": 21,
   "outputs": [
    {
     "data": {
      "text/plain": "[('A', 'A', 'A', 'A'),\n ('A', 'A', 'A', 'B'),\n ('A', 'A', 'A', 'C'),\n ('A', 'A', 'A', 'D'),\n ('A', 'A', 'A', 'E'),\n ('A', 'A', 'B', 'B'),\n ('A', 'A', 'B', 'C'),\n ('A', 'A', 'B', 'D'),\n ('A', 'A', 'B', 'E'),\n ('A', 'A', 'C', 'C'),\n ('A', 'A', 'C', 'D'),\n ('A', 'A', 'C', 'E'),\n ('A', 'A', 'D', 'D'),\n ('A', 'A', 'D', 'E'),\n ('A', 'A', 'E', 'E'),\n ('A', 'B', 'B', 'B'),\n ('A', 'B', 'B', 'C'),\n ('A', 'B', 'B', 'D'),\n ('A', 'B', 'B', 'E'),\n ('A', 'B', 'C', 'C'),\n ('A', 'B', 'C', 'D'),\n ('A', 'B', 'C', 'E'),\n ('A', 'B', 'D', 'D'),\n ('A', 'B', 'D', 'E'),\n ('A', 'B', 'E', 'E'),\n ('A', 'C', 'C', 'C'),\n ('A', 'C', 'C', 'D'),\n ('A', 'C', 'C', 'E'),\n ('A', 'C', 'D', 'D'),\n ('A', 'C', 'D', 'E'),\n ('A', 'C', 'E', 'E'),\n ('A', 'D', 'D', 'D'),\n ('A', 'D', 'D', 'E'),\n ('A', 'D', 'E', 'E'),\n ('A', 'E', 'E', 'E'),\n ('B', 'B', 'B', 'B'),\n ('B', 'B', 'B', 'C'),\n ('B', 'B', 'B', 'D'),\n ('B', 'B', 'B', 'E'),\n ('B', 'B', 'C', 'C'),\n ('B', 'B', 'C', 'D'),\n ('B', 'B', 'C', 'E'),\n ('B', 'B', 'D', 'D'),\n ('B', 'B', 'D', 'E'),\n ('B', 'B', 'E', 'E'),\n ('B', 'C', 'C', 'C'),\n ('B', 'C', 'C', 'D'),\n ('B', 'C', 'C', 'E'),\n ('B', 'C', 'D', 'D'),\n ('B', 'C', 'D', 'E'),\n ('B', 'C', 'E', 'E'),\n ('B', 'D', 'D', 'D'),\n ('B', 'D', 'D', 'E'),\n ('B', 'D', 'E', 'E'),\n ('B', 'E', 'E', 'E'),\n ('C', 'C', 'C', 'C'),\n ('C', 'C', 'C', 'D'),\n ('C', 'C', 'C', 'E'),\n ('C', 'C', 'D', 'D'),\n ('C', 'C', 'D', 'E'),\n ('C', 'C', 'E', 'E'),\n ('C', 'D', 'D', 'D'),\n ('C', 'D', 'D', 'E'),\n ('C', 'D', 'E', 'E'),\n ('C', 'E', 'E', 'E'),\n ('D', 'D', 'D', 'D'),\n ('D', 'D', 'D', 'E'),\n ('D', 'D', 'E', 'E'),\n ('D', 'E', 'E', 'E'),\n ('E', 'E', 'E', 'E')]"
     },
     "execution_count": 21,
     "metadata": {},
     "output_type": "execute_result"
    }
   ],
   "source": [
    "from itertools import combinations_with_replacement\n",
    "list(combinations_with_replacement(\"ABCDE\",4))"
   ],
   "metadata": {
    "collapsed": false,
    "ExecuteTime": {
     "end_time": "2025-01-16T14:53:08.111132200Z",
     "start_time": "2025-01-16T14:53:08.096543200Z"
    }
   },
   "id": "87b2f5054c59e19a"
  },
  {
   "cell_type": "code",
   "execution_count": null,
   "outputs": [],
   "source": [
    "from math import comb\n",
    "\n",
    "def numar_moduri(scaune, persoane):\n",
    "    spatii_minime = persoane - 1  # Spații minime între persoane\n",
    "    scaune_ocupate = persoane + spatii_minime  # Numărul minim de scaune necesare\n",
    "    scaune_ramase = scaune - scaune_ocupate  # Scaune care pot fi distribuite\n",
    "\n",
    "    if scaune_ramase < 0:\n",
    "        return 0  # Nu există suficiente scaune\n",
    "\n",
    "    # Numărul de moduri de a aranja scaunele\n",
    "    moduri = comb(scaune - spatii_minime, persoane)  # Alegem pozițiile pentru persoane\n",
    "    moduri *= comb(scaune_ramase + persoane, scaune_ramase)  # Distribuim scaunele rămase\n",
    "\n",
    "    return moduri\n",
    "\n",
    "# Exemplu: 12 scaune, 5 persoane\n",
    "print(numar_moduri(12, 5))"
   ],
   "metadata": {
    "collapsed": false
   },
   "id": "a9af7b6d13b1c36c"
  }
 ],
 "metadata": {
  "kernelspec": {
   "display_name": "Python 3",
   "language": "python",
   "name": "python3"
  },
  "language_info": {
   "codemirror_mode": {
    "name": "ipython",
    "version": 2
   },
   "file_extension": ".py",
   "mimetype": "text/x-python",
   "name": "python",
   "nbconvert_exporter": "python",
   "pygments_lexer": "ipython2",
   "version": "2.7.6"
  }
 },
 "nbformat": 4,
 "nbformat_minor": 5
}
