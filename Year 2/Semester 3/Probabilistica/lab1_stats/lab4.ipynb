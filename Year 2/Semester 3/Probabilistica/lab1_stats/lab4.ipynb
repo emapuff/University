{
 "cells": [
  {
   "cell_type": "code",
   "execution_count": 29,
   "id": "initial_id",
   "metadata": {
    "collapsed": true,
    "ExecuteTime": {
     "end_time": "2024-11-22T14:33:32.430563400Z",
     "start_time": "2024-11-22T14:33:32.396816400Z"
    }
   },
   "outputs": [
    {
     "name": "stdout",
     "output_type": "stream",
     "text": [
      "ceva\n"
     ]
    }
   ],
   "source": [
    "from scipy.stats import bernoulli, binom\n",
    "from matplotlib.pyplot import bar, show, hist, grid, legend, xticks\n",
    "from scipy.stats import hypergeom, geom\n",
    "from scipy.stats import bernoulli, binom\n",
    "def deplasare(nr_pas, p):\n",
    "    #nr_pas cu incepere in nodul 0\n",
    "    # p probabilitate aub drapta, 1-p probabilitatea in stanga\n",
    "    poz_vizitate=[0]\n",
    "    for _ in range(nr_pas):\n",
    "        poz_vizitate.append(poz_vizitate[-1]+2*bernoulli.rvs(p)-1)\n",
    "        # if nr == 1 : \n",
    "        #     poz_vizitate.append(poz_vizitate[-1]+1)\n",
    "        # else: \n",
    "        #     poz_vizitate.append(poz_vizitate[-1]-1)\n",
    "    return poz_vizitate\n",
    "    \n",
    "deplasare(10,0.9)\n",
    "    \n",
    "print(\"ceva\")"
   ]
  },
  {
   "cell_type": "code",
   "execution_count": 16,
   "outputs": [
    {
     "data": {
      "text/plain": "0"
     },
     "execution_count": 16,
     "metadata": {},
     "output_type": "execute_result"
    }
   ],
   "source": [
    "from scipy.stats import bernoulli, binom\n",
    "bernoulli.rvs(p=0.5) # generare nr aleatoare prin simulari "
   ],
   "metadata": {
    "collapsed": false,
    "ExecuteTime": {
     "end_time": "2024-11-22T14:25:37.920530200Z",
     "start_time": "2024-11-22T14:25:37.910932400Z"
    }
   },
   "id": "84573919c0308d"
  },
  {
   "cell_type": "code",
   "execution_count": 51,
   "outputs": [
    {
     "data": {
      "text/plain": "<Figure size 640x480 with 1 Axes>",
      "image/png": "[encoded data removed]"
     },
     "metadata": {},
     "output_type": "display_data"
    }
   ],
   "source": [
    "from random import randrange\n",
    "from matplotlib.pyplot import bar, hist, grid, show, legend\n",
    "nr_pasi = 10 \n",
    "p = 0.5 \n",
    "N = 1000 # simulari \n",
    "data = [deplasare(nr_pasi,p)[-1] for _ in range(500)] #datele pe care le reprezint, doar poz finale ma intereseaza  \n",
    "bin_edges = [k+0.5 for k in range(-nr_pasi-1,nr_pasi+1)]\n",
    "hist(data, bin_edges, density = True, rwidth = 0.9, color = 'purple', edgecolor = 'black',\n",
    "alpha = 0.5, label = 'frecvente relative')\n",
    "# distribution = dict([(i,1/6) for i in range(1,7)])\n",
    "# bar(distribution.keys(), distribution.values(), width = 0.85, color = 'violet', edgecolor = 'black',\n",
    "#     alpha= 0.6, label = 'probabilitati')\n",
    "legend(loc = 'lower left')\n",
    "xticks(range(-nr_pasi,nr_pasi+1,2))\n",
    "grid()\n",
    "show()\n",
    "#0 are cea mai mare combinatie de numre care dau asta, de aceea da asta \n",
    "#binomiala pertru ca poti scrie cu combinari "
   ],
   "metadata": {
    "collapsed": false,
    "ExecuteTime": {
     "end_time": "2024-11-22T14:47:16.391695900Z",
     "start_time": "2024-11-22T14:47:16.195239900Z"
    }
   },
   "id": "7f48a209288499a"
  },
  {
   "cell_type": "code",
   "execution_count": null,
   "outputs": [],
   "source": [],
   "metadata": {
    "collapsed": false
   },
   "id": "b8facf41d43969e0"
  }
 ],
 "metadata": {
  "kernelspec": {
   "display_name": "Python 3",
   "language": "python",
   "name": "python3"
  },
  "language_info": {
   "codemirror_mode": {
    "name": "ipython",
    "version": 2
   },
   "file_extension": ".py",
   "mimetype": "text/x-python",
   "name": "python",
   "nbconvert_exporter": "python",
   "pygments_lexer": "ipython2",
   "version": "2.7.6"
  }
 },
 "nbformat": 4,
 "nbformat_minor": 5
}
