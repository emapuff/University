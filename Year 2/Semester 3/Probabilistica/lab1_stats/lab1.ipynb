{
 "cells": [
  {
   "cell_type": "code",
   "execution_count": 5,
   "id": "initial_id",
   "metadata": {
    "collapsed": true,
    "ExecuteTime": {
     "end_time": "2024-10-11T13:20:33.559990300Z",
     "start_time": "2024-10-11T13:20:33.534511300Z"
    }
   },
   "outputs": [
    {
     "data": {
      "text/plain": "[(1, 2, 3), (1, 3, 2), (2, 1, 3), (2, 3, 1), (3, 1, 2), (3, 2, 1)]"
     },
     "execution_count": 5,
     "metadata": {},
     "output_type": "execute_result"
    }
   ],
   "source": [
    "import math\n",
    "import random\n",
    "from random import sample\n",
    "from math import factorial\n",
    "from itertools import permutations\n",
    "list(permutations([1,2,3]))\n",
    "\n"
   ]
  },
  {
   "cell_type": "code",
   "execution_count": 13,
   "outputs": [
    {
     "name": "stdout",
     "output_type": "stream",
     "text": [
      "24\n",
      "24\n"
     ]
    }
   ],
   "source": [
    "print(len(list(permutations(\"word\"))))\n",
    "print(factorial(len(\"word\")))"
   ],
   "metadata": {
    "collapsed": false,
    "ExecuteTime": {
     "end_time": "2024-10-11T13:33:43.020658800Z",
     "start_time": "2024-10-11T13:33:42.987356100Z"
    }
   },
   "id": "3a817a0d87514204"
  },
  {
   "cell_type": "code",
   "execution_count": 14,
   "outputs": [
    {
     "data": {
      "text/plain": "['o', 'd', 'r', 'w']"
     },
     "execution_count": 14,
     "metadata": {},
     "output_type": "execute_result"
    }
   ],
   "source": [
    "import random \n",
    "sample(\"word\",4)"
   ],
   "metadata": {
    "collapsed": false,
    "ExecuteTime": {
     "end_time": "2024-10-11T13:36:30.613322400Z",
     "start_time": "2024-10-11T13:36:30.573570100Z"
    }
   },
   "id": "8de30fb7d957bd97"
  },
  {
   "cell_type": "code",
   "execution_count": 21,
   "outputs": [
    {
     "name": "stdout",
     "output_type": "stream",
     "text": [
      "[('W', 'O'), ('W', 'R'), ('W', 'D'), ('O', 'W'), ('O', 'R'), ('O', 'D'), ('R', 'W'), ('R', 'O'), ('R', 'D'), ('D', 'W'), ('D', 'O'), ('D', 'R')]\n",
      "12.0\n",
      "['O', 'W']\n"
     ]
    }
   ],
   "source": [
    "# aranjamente \n",
    "from itertools import permutations, combinations\n",
    "def aranjamente(word, number, numar_total=False, aleator=False):\n",
    "    if numar_total is False and aleator is False:\n",
    "        print(list(permutations(word, number)))\n",
    "    elif numar_total is True:\n",
    "        numar = factorial(len(word)) / factorial(len(word) - number)\n",
    "        print(numar)\n",
    "    elif aleator is True:\n",
    "        print(sample(word,number))\n",
    "\n",
    "aranjamente(\"WORD\", 2)\n",
    "aranjamente(\"WORD\", 2, numar_total=True)\n",
    "aranjamente(\"WORD\", 2, aleator=True)"
   ],
   "metadata": {
    "collapsed": false,
    "ExecuteTime": {
     "end_time": "2024-10-11T13:44:06.007126600Z",
     "start_time": "2024-10-11T13:44:05.969285600Z"
    }
   },
   "id": "cbdfc960d189b85b"
  },
  {
   "cell_type": "code",
   "execution_count": 43,
   "outputs": [
    {
     "name": "stdout",
     "output_type": "stream",
     "text": [
      "[('w', 'o'), ('w', 'r'), ('w', 'd'), ('o', 'r'), ('o', 'd'), ('r', 'd')]\n",
      "6\n",
      "[ o,  r,  ]\n"
     ]
    }
   ],
   "source": [
    "from math import perm, comb\n",
    "from itertools import combinations\n",
    "\n",
    "def combinari(word, number, numar_total=False, aleator=False):\n",
    "    if numar_total is False and aleator is False:\n",
    "        print(list(combinations(word,number)))\n",
    "    elif numar_total is True:\n",
    "        print(comb(len(word), number))\n",
    "    else:\n",
    "        indici = sorted(sample(list(range(len(word))),number))\n",
    "        print('[', end=\" \")\n",
    "        for i in indici:\n",
    "            print(word[i]+ \",\", end=\" \")\n",
    "        print(']')\n",
    "       # print(sample(list(word),number))\n",
    "  \n",
    "combinari('word', 2)\n",
    "combinari('word', 2, numar_total=True)\n",
    "combinari('word', 2, aleator=True)\n"
   ],
   "metadata": {
    "collapsed": false,
    "ExecuteTime": {
     "end_time": "2024-10-11T14:08:54.506007800Z",
     "start_time": "2024-10-11T14:08:54.489218600Z"
    }
   },
   "id": "f3eabf148d45e57d"
  },
  {
   "cell_type": "code",
   "execution_count": 44,
   "outputs": [
    {
     "data": {
      "text/plain": "[('A', 'A', 'A', 'A'),\n ('A', 'A', 'A', 'B'),\n ('A', 'A', 'A', 'C'),\n ('A', 'A', 'A', 'D'),\n ('A', 'A', 'A', 'E'),\n ('A', 'A', 'B', 'B'),\n ('A', 'A', 'B', 'C'),\n ('A', 'A', 'B', 'D'),\n ('A', 'A', 'B', 'E'),\n ('A', 'A', 'C', 'C'),\n ('A', 'A', 'C', 'D'),\n ('A', 'A', 'C', 'E'),\n ('A', 'A', 'D', 'D'),\n ('A', 'A', 'D', 'E'),\n ('A', 'A', 'E', 'E'),\n ('A', 'B', 'B', 'B'),\n ('A', 'B', 'B', 'C'),\n ('A', 'B', 'B', 'D'),\n ('A', 'B', 'B', 'E'),\n ('A', 'B', 'C', 'C'),\n ('A', 'B', 'C', 'D'),\n ('A', 'B', 'C', 'E'),\n ('A', 'B', 'D', 'D'),\n ('A', 'B', 'D', 'E'),\n ('A', 'B', 'E', 'E'),\n ('A', 'C', 'C', 'C'),\n ('A', 'C', 'C', 'D'),\n ('A', 'C', 'C', 'E'),\n ('A', 'C', 'D', 'D'),\n ('A', 'C', 'D', 'E'),\n ('A', 'C', 'E', 'E'),\n ('A', 'D', 'D', 'D'),\n ('A', 'D', 'D', 'E'),\n ('A', 'D', 'E', 'E'),\n ('A', 'E', 'E', 'E'),\n ('B', 'B', 'B', 'B'),\n ('B', 'B', 'B', 'C'),\n ('B', 'B', 'B', 'D'),\n ('B', 'B', 'B', 'E'),\n ('B', 'B', 'C', 'C'),\n ('B', 'B', 'C', 'D'),\n ('B', 'B', 'C', 'E'),\n ('B', 'B', 'D', 'D'),\n ('B', 'B', 'D', 'E'),\n ('B', 'B', 'E', 'E'),\n ('B', 'C', 'C', 'C'),\n ('B', 'C', 'C', 'D'),\n ('B', 'C', 'C', 'E'),\n ('B', 'C', 'D', 'D'),\n ('B', 'C', 'D', 'E'),\n ('B', 'C', 'E', 'E'),\n ('B', 'D', 'D', 'D'),\n ('B', 'D', 'D', 'E'),\n ('B', 'D', 'E', 'E'),\n ('B', 'E', 'E', 'E'),\n ('C', 'C', 'C', 'C'),\n ('C', 'C', 'C', 'D'),\n ('C', 'C', 'C', 'E'),\n ('C', 'C', 'D', 'D'),\n ('C', 'C', 'D', 'E'),\n ('C', 'C', 'E', 'E'),\n ('C', 'D', 'D', 'D'),\n ('C', 'D', 'D', 'E'),\n ('C', 'D', 'E', 'E'),\n ('C', 'E', 'E', 'E'),\n ('D', 'D', 'D', 'D'),\n ('D', 'D', 'D', 'E'),\n ('D', 'D', 'E', 'E'),\n ('D', 'E', 'E', 'E'),\n ('E', 'E', 'E', 'E')]"
     },
     "execution_count": 44,
     "metadata": {},
     "output_type": "execute_result"
    }
   ],
   "source": [
    "from itertools import combinations_with_replacement\n",
    "list(combinations_with_replacement(\"ABCDE\",4))"
   ],
   "metadata": {
    "collapsed": false,
    "ExecuteTime": {
     "end_time": "2024-10-11T14:09:46.923414400Z",
     "start_time": "2024-10-11T14:09:46.884223800Z"
    }
   },
   "id": "cd9721e6990ddb6f"
  },
  {
   "cell_type": "code",
   "execution_count": 33,
   "outputs": [],
   "source": [
    "lista=sorted(permutations(range(12),5))\n",
    "for i in lista:\n",
    "    if "
   ],
   "metadata": {
    "collapsed": false,
    "ExecuteTime": {
     "end_time": "2024-10-11T14:04:21.748948500Z",
     "start_time": "2024-10-11T14:04:21.723113600Z"
    }
   },
   "id": "b9dbd20bd2344d96"
  },
  {
   "cell_type": "code",
   "execution_count": null,
   "outputs": [],
   "source": [],
   "metadata": {
    "collapsed": false
   },
   "id": "ed7ce501ed3408c1"
  },
  {
   "cell_type": "markdown",
   "source": [],
   "metadata": {
    "collapsed": false
   },
   "id": "1f7544724bccd54f"
  },
  {
   "cell_type": "code",
   "execution_count": 33,
   "outputs": [],
   "source": [],
   "metadata": {
    "collapsed": false,
    "ExecuteTime": {
     "end_time": "2024-10-11T14:04:25.517639200Z",
     "start_time": "2024-10-11T14:04:25.402030700Z"
    }
   },
   "id": "4fcb07fea061540f"
  },
  {
   "cell_type": "code",
   "execution_count": 33,
   "outputs": [],
   "source": [],
   "metadata": {
    "collapsed": false,
    "ExecuteTime": {
     "end_time": "2024-10-11T14:04:28.832434600Z",
     "start_time": "2024-10-11T14:04:28.806624Z"
    }
   },
   "id": "e410f57f3b12eab5"
  },
  {
   "cell_type": "code",
   "execution_count": null,
   "outputs": [],
   "source": [],
   "metadata": {
    "collapsed": false
   },
   "id": "3b3e0ffda9eb9d35"
  }
 ],
 "metadata": {
  "kernelspec": {
   "display_name": "Python 3",
   "language": "python",
   "name": "python3"
  },
  "language_info": {
   "codemirror_mode": {
    "name": "ipython",
    "version": 2
   },
   "file_extension": ".py",
   "mimetype": "text/x-python",
   "name": "python",
   "nbconvert_exporter": "python",
   "pygments_lexer": "ipython2",
   "version": "2.7.6"
  }
 },
 "nbformat": 4,
 "nbformat_minor": 5
}
