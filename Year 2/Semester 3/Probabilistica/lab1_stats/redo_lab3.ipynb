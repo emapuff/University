{
 "cells": [
  {
   "cell_type": "code",
   "execution_count": null,
   "id": "initial_id",
   "metadata": {
    "collapsed": true
   },
   "outputs": [],
   "source": [
    "from random import choices, sample\n",
    "from math import comb, perm \n",
    "def simulation(n):\n",
    "    list = ['r','r','r','r','r','a','a','a','v','v']\n",
    "    caz_a = 0\n",
    "    caz_b = 0\n",
    "    caz_ab =0\n",
    "    for i in range(n):\n",
    "        extract = choices(list,3)\n",
    "        if 'r' in extract: \n",
    "            caz_a += 1\n",
    "        if extract[0] == extract[1] == extract[2]: caz_b +=1\n",
    "        if extract[0] == extract[1] == extract[2] and extract[2] =='r': caz_ab +=1\n",
    "        \n",
    "        return ((caz_ab/n)/(caz_a/n))*100\n",
    "        \n",
    "    "
   ]
  }
 ],
 "metadata": {
  "kernelspec": {
   "display_name": "Python 3",
   "language": "python",
   "name": "python3"
  },
  "language_info": {
   "codemirror_mode": {
    "name": "ipython",
    "version": 2
   },
   "file_extension": ".py",
   "mimetype": "text/x-python",
   "name": "python",
   "nbconvert_exporter": "python",
   "pygments_lexer": "ipython2",
   "version": "2.7.6"
  }
 },
 "nbformat": 4,
 "nbformat_minor": 5
}
